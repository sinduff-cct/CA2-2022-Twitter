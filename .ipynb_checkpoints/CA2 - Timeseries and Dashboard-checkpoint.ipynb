{
 "cells": [
  {
   "cell_type": "markdown",
   "id": "82b2907e",
   "metadata": {},
   "source": [
    "### Notebook 2 - \n",
    "\n",
    "When the virtual machine broken, I elected to finish the assignment requirment using a windows based machine.  It was not possible to extract the dataset from hadoop to continue to analysis so I elected to use the same dataset extacted using python.\n",
    "\n",
    "The shape of the data is the same as the in extracted in Hadoop."
   ]
  },
  {
   "cell_type": "code",
   "execution_count": 1,
   "id": "37808775",
   "metadata": {},
   "outputs": [],
   "source": [
    "import pandas as pd \n",
    "import numpy as np\n",
    "import pandas_datareader as web \n",
    "import datetime\n",
    "\n",
    "import matplotlib.pyplot as plt\n",
    "%matplotlib inline\n",
    "%config InlineBackend.figure_format = 'retina'\n",
    "import seaborn as sns\n",
    "\n",
    "from statsmodels.tsa.statespace.sarimax import SARIMAX\n",
    "from statsmodels.tsa.arima_model import ARIMA\n",
    "\n",
    "#relax the display limits on columns and rows\n",
    "pd.set_option('display.max_columns', None)\n",
    "pd.set_option('display.max_rows', None)\n",
    "\n",
    "import warnings\n",
    "warnings.filterwarnings('ignore')\n"
   ]
  },
  {
   "cell_type": "code",
   "execution_count": 2,
   "id": "653847b6",
   "metadata": {},
   "outputs": [],
   "source": [
    "# import the csv file filtered on weather\n",
    "\n",
    "df = pd.read_csv('weather.csv')"
   ]
  },
  {
   "cell_type": "code",
   "execution_count": 3,
   "id": "b98ec2f0",
   "metadata": {},
   "outputs": [
    {
     "data": {
      "text/plain": [
       "(10532, 6)"
      ]
     },
     "execution_count": 3,
     "metadata": {},
     "output_type": "execute_result"
    }
   ],
   "source": [
    "# look at the of the dataframe\n",
    "\n",
    "df.shape\n"
   ]
  },
  {
   "cell_type": "code",
   "execution_count": 4,
   "id": "d61ba71e",
   "metadata": {},
   "outputs": [],
   "source": [
    "# convert the full date column to a date column\n",
    "\n",
    "df['date'] = pd.to_datetime(df['date'])\n",
    "df['date_extract'] = df['date'].dt.date\n"
   ]
  },
  {
   "cell_type": "code",
   "execution_count": 5,
   "id": "1929e2b9",
   "metadata": {},
   "outputs": [],
   "source": [
    "# extract the time  from the date column\n",
    "\n",
    "# Assuming your DataFrame is named 'df' and the date column is named 'date_column'\n",
    "df['date'] = pd.to_datetime(df['date'])\n",
    "df['time_extract'] = df['date'].dt.time"
   ]
  },
  {
   "cell_type": "code",
   "execution_count": 6,
   "id": "d97e2522",
   "metadata": {},
   "outputs": [
    {
     "data": {
      "text/html": [
       "<div>\n",
       "<style scoped>\n",
       "    .dataframe tbody tr th:only-of-type {\n",
       "        vertical-align: middle;\n",
       "    }\n",
       "\n",
       "    .dataframe tbody tr th {\n",
       "        vertical-align: top;\n",
       "    }\n",
       "\n",
       "    .dataframe thead th {\n",
       "        text-align: right;\n",
       "    }\n",
       "</style>\n",
       "<table border=\"1\" class=\"dataframe\">\n",
       "  <thead>\n",
       "    <tr style=\"text-align: right;\">\n",
       "      <th></th>\n",
       "      <th>target</th>\n",
       "      <th>id</th>\n",
       "      <th>date</th>\n",
       "      <th>query</th>\n",
       "      <th>author</th>\n",
       "      <th>tweet</th>\n",
       "      <th>date_extract</th>\n",
       "      <th>time_extract</th>\n",
       "    </tr>\n",
       "  </thead>\n",
       "  <tbody>\n",
       "    <tr>\n",
       "      <th>0</th>\n",
       "      <td>0</td>\n",
       "      <td>1467841885</td>\n",
       "      <td>2009-04-06 22:27:56</td>\n",
       "      <td>NO_QUERY</td>\n",
       "      <td>MissPassion</td>\n",
       "      <td>@thecoolestout Ehhh don't. Weather's gonna tak...</td>\n",
       "      <td>2009-04-06</td>\n",
       "      <td>22:27:56</td>\n",
       "    </tr>\n",
       "    <tr>\n",
       "      <th>1</th>\n",
       "      <td>0</td>\n",
       "      <td>1467912333</td>\n",
       "      <td>2009-04-06 22:46:44</td>\n",
       "      <td>NO_QUERY</td>\n",
       "      <td>Meg_Andruschak</td>\n",
       "      <td>@Steve_Buscemi the weather in Canada is freezing</td>\n",
       "      <td>2009-04-06</td>\n",
       "      <td>22:46:44</td>\n",
       "    </tr>\n",
       "    <tr>\n",
       "      <th>2</th>\n",
       "      <td>0</td>\n",
       "      <td>1467931501</td>\n",
       "      <td>2009-04-06 22:52:13</td>\n",
       "      <td>NO_QUERY</td>\n",
       "      <td>soulonfire68</td>\n",
       "      <td>We've been good. I'm not liking the snow right...</td>\n",
       "      <td>2009-04-06</td>\n",
       "      <td>22:52:13</td>\n",
       "    </tr>\n",
       "    <tr>\n",
       "      <th>3</th>\n",
       "      <td>0</td>\n",
       "      <td>1467960481</td>\n",
       "      <td>2009-04-06 23:00:26</td>\n",
       "      <td>NO_QUERY</td>\n",
       "      <td>breedimetria</td>\n",
       "      <td>@JessDubb lmao. U may have to wait for another...</td>\n",
       "      <td>2009-04-06</td>\n",
       "      <td>23:00:26</td>\n",
       "    </tr>\n",
       "    <tr>\n",
       "      <th>4</th>\n",
       "      <td>0</td>\n",
       "      <td>1468023365</td>\n",
       "      <td>2009-04-06 23:18:38</td>\n",
       "      <td>NO_QUERY</td>\n",
       "      <td>addictedtotext</td>\n",
       "      <td>it's going to be nice again tomorrow and then ...</td>\n",
       "      <td>2009-04-06</td>\n",
       "      <td>23:18:38</td>\n",
       "    </tr>\n",
       "  </tbody>\n",
       "</table>\n",
       "</div>"
      ],
      "text/plain": [
       "   target          id                date     query          author  \\\n",
       "0       0  1467841885 2009-04-06 22:27:56  NO_QUERY     MissPassion   \n",
       "1       0  1467912333 2009-04-06 22:46:44  NO_QUERY  Meg_Andruschak   \n",
       "2       0  1467931501 2009-04-06 22:52:13  NO_QUERY    soulonfire68   \n",
       "3       0  1467960481 2009-04-06 23:00:26  NO_QUERY    breedimetria   \n",
       "4       0  1468023365 2009-04-06 23:18:38  NO_QUERY  addictedtotext   \n",
       "\n",
       "                                               tweet date_extract time_extract  \n",
       "0  @thecoolestout Ehhh don't. Weather's gonna tak...   2009-04-06     22:27:56  \n",
       "1  @Steve_Buscemi the weather in Canada is freezing    2009-04-06     22:46:44  \n",
       "2  We've been good. I'm not liking the snow right...   2009-04-06     22:52:13  \n",
       "3  @JessDubb lmao. U may have to wait for another...   2009-04-06     23:00:26  \n",
       "4  it's going to be nice again tomorrow and then ...   2009-04-06     23:18:38  "
      ]
     },
     "execution_count": 6,
     "metadata": {},
     "output_type": "execute_result"
    }
   ],
   "source": [
    "df.head()\n"
   ]
  },
  {
   "cell_type": "markdown",
   "id": "47f20b70",
   "metadata": {},
   "source": [
    "### Data Processing\n",
    "\n",
    "#### Reference\n",
    "1. https://medium.com/towards-data-science/another-twitter-sentiment-analysis-bb5b01ebad90\n",
    "2. https://wblillyman.medium.com/real-world-example-of-data-scraping-cleaning-with-python-and-beautifulsoup-74e42e7936fe\n",
    "3. "
   ]
  },
  {
   "cell_type": "code",
   "execution_count": 7,
   "id": "169f0440",
   "metadata": {},
   "outputs": [],
   "source": [
    "# drop unnecessary columns \n",
    "\n",
    "df.drop(['id','date','query','author'],axis=1,inplace=True)"
   ]
  },
  {
   "cell_type": "code",
   "execution_count": 8,
   "id": "65467217",
   "metadata": {},
   "outputs": [],
   "source": [
    "from bs4 import BeautifulSoup\n",
    "import re\n",
    "from nltk.tokenize import WordPunctTokenizer\n",
    "tok = WordPunctTokenizer()"
   ]
  },
  {
   "cell_type": "code",
   "execution_count": 9,
   "id": "f4f7ec71",
   "metadata": {},
   "outputs": [],
   "source": [
    "# removing @ symbols\n",
    "pat1 = r'@[A-Za-z0-9_]+'\n",
    "# removing weblinks\n",
    "pat2 = r'https?://[^ ]+'\n",
    "\n",
    "combined_pat = r'|'.join((pat1, pat2))\n",
    "# updated web site listing\n",
    "www_pat = r'www.[^ ]+'\n",
    "\n",
    "# negative words that should not be updated or removed\n",
    "negations_dic = {\"isn't\":\"is not\", \"aren't\":\"are not\", \"wasn't\":\"was not\", \"weren't\":\"were not\",\n",
    "                \"haven't\":\"have not\",\"hasn't\":\"has not\",\"hadn't\":\"had not\",\"won't\":\"will not\",\n",
    "                \"wouldn't\":\"would not\", \"don't\":\"do not\", \"doesn't\":\"does not\",\"didn't\":\"did not\",\n",
    "                \"can't\":\"can not\",\"couldn't\":\"could not\",\"shouldn't\":\"should not\",\"mightn't\":\"might not\",\n",
    "                \"mustn't\":\"must not\"}\n",
    "\n",
    "neg_pattern = re.compile(r'\\b(' + '|'.join(negations_dic.keys()) + r')\\b')\n"
   ]
  },
  {
   "cell_type": "code",
   "execution_count": 10,
   "id": "7cacf318",
   "metadata": {},
   "outputs": [],
   "source": [
    "# remove noise such as html links, stop words / punctuation / #hashtags etc\n",
    "\n",
    "def tweet_cleaner(text):\n",
    "    # remove any HTLM references\n",
    "    soup = BeautifulSoup(text, 'lxml')\n",
    "    # create a new var called souped\n",
    "    souped = soup.get_text()\n",
    "    # removing @\n",
    "    stripped = re.sub(combined_pat, '', souped)\n",
    "    try:\n",
    "        # ensure all texted is in the utf-8 format\n",
    "        bom_removed = souped.decode(\"utf-8-sig\").replace(u\"\\ufffd\", \"?\")\n",
    "    except:\n",
    "        bom_removed = souped\n",
    "    stripped = re.sub(combined_pat, '', bom_removed)\n",
    "    stripped = re.sub(www_pat, '', stripped)\n",
    "\n",
    "    # convert all text to lowercase only\n",
    "    lower_case = stripped.lower()\n",
    "    neg_handled = neg_pattern.sub(lambda x: negations_dic[x.group()], lower_case)\n",
    "    \n",
    "    # remove any url links \n",
    "    letters_only = re.sub(\"[^a-zA-Z]\", \" \", neg_handled)\n",
    "    \n",
    "    # removes any white space using tokenize to join together text and then \n",
    "    # removing any resulting white spaces\n",
    "    words = [x for x  in tok.tokenize(letters_only) if len(x) > 1]\n",
    "   \n",
    "    return (\" \".join(words)).strip()\n"
   ]
  },
  {
   "cell_type": "code",
   "execution_count": 11,
   "id": "776c75e6",
   "metadata": {},
   "outputs": [
    {
     "name": "stdout",
     "output_type": "stream",
     "text": [
      "Tweets 10532 of 10532 have been processed\n"
     ]
    }
   ],
   "source": [
    "# Apply the function to the 'tweet' column and create a new column 'Processed_tweets'\n",
    "\n",
    "start_index = 0\n",
    "end_index = 10532\n",
    "\n",
    "clean_tweet_texts = []\n",
    "\n",
    "for i in range(start_index, end_index):\n",
    "    if (i + 1) % end_index == start_index:\n",
    "        print(\"Tweets %d of %d have been processed\" % (i + 1, end_index))\n",
    "\n",
    "    clean_tweet_texts.append(tweet_cleaner(df['tweet'][i]))"
   ]
  },
  {
   "cell_type": "code",
   "execution_count": 12,
   "id": "c45da5b1",
   "metadata": {},
   "outputs": [
    {
     "name": "stdout",
     "output_type": "stream",
     "text": [
      "<class 'pandas.core.frame.DataFrame'>\n",
      "RangeIndex: 10532 entries, 0 to 10531\n",
      "Data columns (total 4 columns):\n",
      " #   Column        Non-Null Count  Dtype \n",
      "---  ------        --------------  ----- \n",
      " 0   target        10532 non-null  int64 \n",
      " 1   tweet         10532 non-null  object\n",
      " 2   date_extract  10532 non-null  object\n",
      " 3   time_extract  10532 non-null  object\n",
      "dtypes: int64(1), object(3)\n",
      "memory usage: 329.2+ KB\n"
     ]
    }
   ],
   "source": [
    "df.info()"
   ]
  },
  {
   "cell_type": "code",
   "execution_count": 13,
   "id": "211bb490",
   "metadata": {},
   "outputs": [
    {
     "data": {
      "text/html": [
       "<div>\n",
       "<style scoped>\n",
       "    .dataframe tbody tr th:only-of-type {\n",
       "        vertical-align: middle;\n",
       "    }\n",
       "\n",
       "    .dataframe tbody tr th {\n",
       "        vertical-align: top;\n",
       "    }\n",
       "\n",
       "    .dataframe thead th {\n",
       "        text-align: right;\n",
       "    }\n",
       "</style>\n",
       "<table border=\"1\" class=\"dataframe\">\n",
       "  <thead>\n",
       "    <tr style=\"text-align: right;\">\n",
       "      <th></th>\n",
       "      <th>target</th>\n",
       "      <th>tweet</th>\n",
       "      <th>date_extract</th>\n",
       "      <th>time_extract</th>\n",
       "    </tr>\n",
       "  </thead>\n",
       "  <tbody>\n",
       "    <tr>\n",
       "      <th>0</th>\n",
       "      <td>0</td>\n",
       "      <td>@thecoolestout Ehhh don't. Weather's gonna tak...</td>\n",
       "      <td>2009-04-06</td>\n",
       "      <td>22:27:56</td>\n",
       "    </tr>\n",
       "    <tr>\n",
       "      <th>1</th>\n",
       "      <td>0</td>\n",
       "      <td>@Steve_Buscemi the weather in Canada is freezing</td>\n",
       "      <td>2009-04-06</td>\n",
       "      <td>22:46:44</td>\n",
       "    </tr>\n",
       "    <tr>\n",
       "      <th>2</th>\n",
       "      <td>0</td>\n",
       "      <td>We've been good. I'm not liking the snow right...</td>\n",
       "      <td>2009-04-06</td>\n",
       "      <td>22:52:13</td>\n",
       "    </tr>\n",
       "    <tr>\n",
       "      <th>3</th>\n",
       "      <td>0</td>\n",
       "      <td>@JessDubb lmao. U may have to wait for another...</td>\n",
       "      <td>2009-04-06</td>\n",
       "      <td>23:00:26</td>\n",
       "    </tr>\n",
       "    <tr>\n",
       "      <th>4</th>\n",
       "      <td>0</td>\n",
       "      <td>it's going to be nice again tomorrow and then ...</td>\n",
       "      <td>2009-04-06</td>\n",
       "      <td>23:18:38</td>\n",
       "    </tr>\n",
       "  </tbody>\n",
       "</table>\n",
       "</div>"
      ],
      "text/plain": [
       "   target                                              tweet date_extract  \\\n",
       "0       0  @thecoolestout Ehhh don't. Weather's gonna tak...   2009-04-06   \n",
       "1       0  @Steve_Buscemi the weather in Canada is freezing    2009-04-06   \n",
       "2       0  We've been good. I'm not liking the snow right...   2009-04-06   \n",
       "3       0  @JessDubb lmao. U may have to wait for another...   2009-04-06   \n",
       "4       0  it's going to be nice again tomorrow and then ...   2009-04-06   \n",
       "\n",
       "  time_extract  \n",
       "0     22:27:56  \n",
       "1     22:46:44  \n",
       "2     22:52:13  \n",
       "3     23:00:26  \n",
       "4     23:18:38  "
      ]
     },
     "execution_count": 13,
     "metadata": {},
     "output_type": "execute_result"
    }
   ],
   "source": [
    "df.head()"
   ]
  },
  {
   "cell_type": "code",
   "execution_count": 14,
   "id": "75010c2c",
   "metadata": {},
   "outputs": [],
   "source": [
    "# add a new column for the length of the text in the tweet column\n",
    "\n",
    "df['tweet_len'] = [len(t) for t in df.tweet]"
   ]
  },
  {
   "cell_type": "code",
   "execution_count": 15,
   "id": "4c5b2d5a",
   "metadata": {},
   "outputs": [
    {
     "data": {
      "image/png": "[encoded data removed]",
      "text/plain": [
       "<Figure size 500x500 with 1 Axes>"
      ]
     },
     "metadata": {
      "image/png": {
       "height": 428,
       "width": 443
      }
     },
     "output_type": "display_data"
    }
   ],
   "source": [
    "# look at the shape of the data\n",
    "\n",
    "fig, ax = plt.subplots(figsize=(5, 5))\n",
    "plt.boxplot(df.tweet_len)\n",
    "plt.show()"
   ]
  },
  {
   "cell_type": "code",
   "execution_count": 19,
   "id": "2c60072e",
   "metadata": {},
   "outputs": [
    {
     "name": "stdout",
     "output_type": "stream",
     "text": [
      "Null value counts: False\n"
     ]
    }
   ],
   "source": [
    "# check for null values\n",
    "\n",
    "null_values_count = null_values.any().any()\n",
    "\n",
    "print(\"Null value counts:\", null_values_count)"
   ]
  },
  {
   "cell_type": "code",
   "execution_count": 21,
   "id": "fe1a8c87",
   "metadata": {},
   "outputs": [
    {
     "name": "stdout",
     "output_type": "stream",
     "text": [
      "Duplicate count: 3\n"
     ]
    }
   ],
   "source": [
    "# check for duplicate data\n",
    "duplicates = df.duplicated()\n",
    "\n",
    "# count the values\n",
    "duplicate_count = duplicates.sum()\n",
    "\n",
    "print(\"Duplicate count:\", duplicate_count)"
   ]
  },
  {
   "cell_type": "code",
   "execution_count": 22,
   "id": "bad2d195",
   "metadata": {},
   "outputs": [],
   "source": [
    "# drop the resulting duplicates\n",
    "\n",
    "df.drop_duplicates(inplace=True)"
   ]
  },
  {
   "cell_type": "code",
   "execution_count": 52,
   "id": "12ff9a3a",
   "metadata": {},
   "outputs": [],
   "source": [
    "# sort values by date order\n",
    "\n",
    "df = df.sort_values(by='date_extract')"
   ]
  },
  {
   "cell_type": "markdown",
   "id": "d2f90268",
   "metadata": {},
   "source": [
    "### Sentiment Analysis with TextBlob\n",
    "\n",
    "TextBlob - common text processing operation, allowing NLP with an easy to use interface. uses sentiment analysis, parsing etc.\n",
    "\n",
    "\n",
    "#### Reference\n",
    "\n",
    "1. https://textblob.readthedocs.io/en/dev/quickstart.html\n",
    "2. https://textblob.readthedocs.io/en/dev/quickstart.html?highlight=natural%20sentiment#sentiment-analysis\n",
    "3. https://medium.com/towards-data-science/covid-19-vaccine-whats-the-public-sentiment-7149c9b42b99#29b2\n",
    "4. https://www.analyticsvidhya.com/blog/2021/10/sentiment-analysis-with-textblob-and-vader/"
   ]
  },
  {
   "cell_type": "code",
   "execution_count": 25,
   "id": "b3e8ffb4",
   "metadata": {},
   "outputs": [],
   "source": [
    "from textblob import TextBlob"
   ]
  },
  {
   "cell_type": "code",
   "execution_count": 38,
   "id": "ee22a87e",
   "metadata": {},
   "outputs": [],
   "source": [
    "# Obtain sentiment scores generated by TextBlob\n",
    "\n",
    "df['textblob_score'] = df['tweet'].apply(lambda x: TextBlob(x).sentiment.polarity)\n"
   ]
  },
  {
   "cell_type": "code",
   "execution_count": 39,
   "id": "ab30fac0",
   "metadata": {},
   "outputs": [
    {
     "data": {
      "text/html": [
       "<div>\n",
       "<style scoped>\n",
       "    .dataframe tbody tr th:only-of-type {\n",
       "        vertical-align: middle;\n",
       "    }\n",
       "\n",
       "    .dataframe tbody tr th {\n",
       "        vertical-align: top;\n",
       "    }\n",
       "\n",
       "    .dataframe thead th {\n",
       "        text-align: right;\n",
       "    }\n",
       "</style>\n",
       "<table border=\"1\" class=\"dataframe\">\n",
       "  <thead>\n",
       "    <tr style=\"text-align: right;\">\n",
       "      <th></th>\n",
       "      <th>target</th>\n",
       "      <th>tweet</th>\n",
       "      <th>date_extract</th>\n",
       "      <th>time_extract</th>\n",
       "      <th>tweet_len</th>\n",
       "      <th>textblob_score</th>\n",
       "      <th>textblob_sentiment</th>\n",
       "    </tr>\n",
       "  </thead>\n",
       "  <tbody>\n",
       "    <tr>\n",
       "      <th>0</th>\n",
       "      <td>0</td>\n",
       "      <td>@thecoolestout Ehhh don't. Weather's gonna tak...</td>\n",
       "      <td>2009-04-06</td>\n",
       "      <td>22:27:56</td>\n",
       "      <td>77</td>\n",
       "      <td>-0.700000</td>\n",
       "      <td>Negative</td>\n",
       "    </tr>\n",
       "    <tr>\n",
       "      <th>1</th>\n",
       "      <td>0</td>\n",
       "      <td>@Steve_Buscemi the weather in Canada is freezing</td>\n",
       "      <td>2009-04-06</td>\n",
       "      <td>22:46:44</td>\n",
       "      <td>49</td>\n",
       "      <td>0.000000</td>\n",
       "      <td>Neutral</td>\n",
       "    </tr>\n",
       "    <tr>\n",
       "      <th>2</th>\n",
       "      <td>0</td>\n",
       "      <td>We've been good. I'm not liking the snow right...</td>\n",
       "      <td>2009-04-06</td>\n",
       "      <td>22:52:13</td>\n",
       "      <td>117</td>\n",
       "      <td>0.528571</td>\n",
       "      <td>Positive</td>\n",
       "    </tr>\n",
       "    <tr>\n",
       "      <th>3</th>\n",
       "      <td>0</td>\n",
       "      <td>@JessDubb lmao. U may have to wait for another...</td>\n",
       "      <td>2009-04-06</td>\n",
       "      <td>23:00:26</td>\n",
       "      <td>106</td>\n",
       "      <td>0.261111</td>\n",
       "      <td>Positive</td>\n",
       "    </tr>\n",
       "    <tr>\n",
       "      <th>4</th>\n",
       "      <td>0</td>\n",
       "      <td>it's going to be nice again tomorrow and then ...</td>\n",
       "      <td>2009-04-06</td>\n",
       "      <td>23:18:38</td>\n",
       "      <td>99</td>\n",
       "      <td>0.100000</td>\n",
       "      <td>Positive</td>\n",
       "    </tr>\n",
       "  </tbody>\n",
       "</table>\n",
       "</div>"
      ],
      "text/plain": [
       "   target                                              tweet date_extract  \\\n",
       "0       0  @thecoolestout Ehhh don't. Weather's gonna tak...   2009-04-06   \n",
       "1       0  @Steve_Buscemi the weather in Canada is freezing    2009-04-06   \n",
       "2       0  We've been good. I'm not liking the snow right...   2009-04-06   \n",
       "3       0  @JessDubb lmao. U may have to wait for another...   2009-04-06   \n",
       "4       0  it's going to be nice again tomorrow and then ...   2009-04-06   \n",
       "\n",
       "  time_extract  tweet_len  textblob_score textblob_sentiment  \n",
       "0     22:27:56         77       -0.700000           Negative  \n",
       "1     22:46:44         49        0.000000            Neutral  \n",
       "2     22:52:13        117        0.528571           Positive  \n",
       "3     23:00:26        106        0.261111           Positive  \n",
       "4     23:18:38         99        0.100000           Positive  "
      ]
     },
     "execution_count": 39,
     "metadata": {},
     "output_type": "execute_result"
    }
   ],
   "source": [
    "# review the new textblob score\n",
    "\n",
    "# df.head()"
   ]
  },
  {
   "cell_type": "code",
   "execution_count": 40,
   "id": "385649e0",
   "metadata": {},
   "outputs": [],
   "source": [
    "# Set threshold to define neutral sentiment \n",
    "# a score greate than 0.05 is positive, 0 to 0.05 is Neutral and less than 1 is negative\n",
    "\n",
    "neutral_thresh = 0.05"
   ]
  },
  {
   "cell_type": "code",
   "execution_count": 41,
   "id": "90f9159c",
   "metadata": {},
   "outputs": [],
   "source": [
    "# Convert polarity score into sentiment categories\n",
    "\n",
    "df['textblob_sentiment'] = df['textblob_score'].apply(lambda c: 'Positive' if c >= neutral_thresh else ('Negative' if c <= -(neutral_thresh) else 'Neutral'))"
   ]
  },
  {
   "cell_type": "code",
   "execution_count": 42,
   "id": "5a328ac0",
   "metadata": {},
   "outputs": [
    {
     "data": {
      "text/html": [
       "<div>\n",
       "<style scoped>\n",
       "    .dataframe tbody tr th:only-of-type {\n",
       "        vertical-align: middle;\n",
       "    }\n",
       "\n",
       "    .dataframe tbody tr th {\n",
       "        vertical-align: top;\n",
       "    }\n",
       "\n",
       "    .dataframe thead th {\n",
       "        text-align: right;\n",
       "    }\n",
       "</style>\n",
       "<table border=\"1\" class=\"dataframe\">\n",
       "  <thead>\n",
       "    <tr style=\"text-align: right;\">\n",
       "      <th></th>\n",
       "      <th>target</th>\n",
       "      <th>tweet</th>\n",
       "      <th>date_extract</th>\n",
       "      <th>time_extract</th>\n",
       "      <th>tweet_len</th>\n",
       "      <th>textblob_score</th>\n",
       "      <th>textblob_sentiment</th>\n",
       "    </tr>\n",
       "  </thead>\n",
       "  <tbody>\n",
       "    <tr>\n",
       "      <th>0</th>\n",
       "      <td>0</td>\n",
       "      <td>@thecoolestout Ehhh don't. Weather's gonna tak...</td>\n",
       "      <td>2009-04-06</td>\n",
       "      <td>22:27:56</td>\n",
       "      <td>77</td>\n",
       "      <td>-0.700000</td>\n",
       "      <td>Negative</td>\n",
       "    </tr>\n",
       "    <tr>\n",
       "      <th>1</th>\n",
       "      <td>0</td>\n",
       "      <td>@Steve_Buscemi the weather in Canada is freezing</td>\n",
       "      <td>2009-04-06</td>\n",
       "      <td>22:46:44</td>\n",
       "      <td>49</td>\n",
       "      <td>0.000000</td>\n",
       "      <td>Neutral</td>\n",
       "    </tr>\n",
       "    <tr>\n",
       "      <th>2</th>\n",
       "      <td>0</td>\n",
       "      <td>We've been good. I'm not liking the snow right...</td>\n",
       "      <td>2009-04-06</td>\n",
       "      <td>22:52:13</td>\n",
       "      <td>117</td>\n",
       "      <td>0.528571</td>\n",
       "      <td>Positive</td>\n",
       "    </tr>\n",
       "    <tr>\n",
       "      <th>3</th>\n",
       "      <td>0</td>\n",
       "      <td>@JessDubb lmao. U may have to wait for another...</td>\n",
       "      <td>2009-04-06</td>\n",
       "      <td>23:00:26</td>\n",
       "      <td>106</td>\n",
       "      <td>0.261111</td>\n",
       "      <td>Positive</td>\n",
       "    </tr>\n",
       "    <tr>\n",
       "      <th>4</th>\n",
       "      <td>0</td>\n",
       "      <td>it's going to be nice again tomorrow and then ...</td>\n",
       "      <td>2009-04-06</td>\n",
       "      <td>23:18:38</td>\n",
       "      <td>99</td>\n",
       "      <td>0.100000</td>\n",
       "      <td>Positive</td>\n",
       "    </tr>\n",
       "  </tbody>\n",
       "</table>\n",
       "</div>"
      ],
      "text/plain": [
       "   target                                              tweet date_extract  \\\n",
       "0       0  @thecoolestout Ehhh don't. Weather's gonna tak...   2009-04-06   \n",
       "1       0  @Steve_Buscemi the weather in Canada is freezing    2009-04-06   \n",
       "2       0  We've been good. I'm not liking the snow right...   2009-04-06   \n",
       "3       0  @JessDubb lmao. U may have to wait for another...   2009-04-06   \n",
       "4       0  it's going to be nice again tomorrow and then ...   2009-04-06   \n",
       "\n",
       "  time_extract  tweet_len  textblob_score textblob_sentiment  \n",
       "0     22:27:56         77       -0.700000           Negative  \n",
       "1     22:46:44         49        0.000000            Neutral  \n",
       "2     22:52:13        117        0.528571           Positive  \n",
       "3     23:00:26        106        0.261111           Positive  \n",
       "4     23:18:38         99        0.100000           Positive  "
      ]
     },
     "execution_count": 42,
     "metadata": {},
     "output_type": "execute_result"
    }
   ],
   "source": [
    "df.head()"
   ]
  },
  {
   "cell_type": "code",
   "execution_count": 49,
   "id": "55102f76",
   "metadata": {},
   "outputs": [
    {
     "data": {
      "image/png": "[encoded data removed]",
      "text/plain": [
       "<Figure size 640x480 with 1 Axes>"
      ]
     },
     "metadata": {
      "image/png": {
       "height": 468,
       "width": 610
      }
     },
     "output_type": "display_data"
    }
   ],
   "source": [
    "# Plot the sentiment scores\n",
    "\n",
    "sns.set()\n",
    "\n",
    "plt.ylabel('Sentiment Score')\n",
    "plt.xlabel('Date')\n",
    "plt.xticks(rotation=1000)\n",
    "plt.plot(df.index, df['textblob_sentiment'])\n",
    "\n",
    "plt.show()"
   ]
  },
  {
   "cell_type": "markdown",
   "id": "e823be62",
   "metadata": {},
   "source": [
    "#### Time Series Analysis \n",
    "\n",
    "##### References\n",
    "1. https://www.machinelearningplus.com/time-series/arima-model-time-series-forecasting-python/\n",
    "2. https://medium.com/towards-data-science/machine-learning-part-19-time-series-and-autoregressive-integrated-moving-average-model-arima-c1005347b0d7\n",
    "3. \n",
    "4. \n"
   ]
  },
  {
   "cell_type": "code",
   "execution_count": null,
   "id": "b01e92b5",
   "metadata": {},
   "outputs": [],
   "source": []
  },
  {
   "cell_type": "code",
   "execution_count": 50,
   "id": "e5b1f270",
   "metadata": {},
   "outputs": [],
   "source": [
    "# Divide the data set into test and train\n",
    "\n",
    "train = df[df.index < pd.to_datetime(\"2009-11-01\", format='%Y-%m-%d')]\n",
    "test = btc[btc.index >= pd.to_datetime(\"2009-11-01\", format='%Y-%m-%d')]\n",
    "test"
   ]
  },
  {
   "cell_type": "code",
   "execution_count": null,
   "id": "6fee3f10",
   "metadata": {},
   "outputs": [],
   "source": []
  },
  {
   "cell_type": "code",
   "execution_count": null,
   "id": "7724464a",
   "metadata": {},
   "outputs": [],
   "source": []
  },
  {
   "cell_type": "code",
   "execution_count": null,
   "id": "0d8b533d",
   "metadata": {},
   "outputs": [],
   "source": []
  },
  {
   "cell_type": "code",
   "execution_count": null,
   "id": "695ee385",
   "metadata": {},
   "outputs": [],
   "source": []
  }
 ],
 "metadata": {
  "kernelspec": {
   "display_name": "Python 3 (ipykernel)",
   "language": "python",
   "name": "python3"
  },
  "language_info": {
   "codemirror_mode": {
    "name": "ipython",
    "version": 3
   },
   "file_extension": ".py",
   "mimetype": "text/x-python",
   "name": "python",
   "nbconvert_exporter": "python",
   "pygments_lexer": "ipython3",
   "version": "3.9.12"
  }
 },
 "nbformat": 4,
 "nbformat_minor": 5
}
