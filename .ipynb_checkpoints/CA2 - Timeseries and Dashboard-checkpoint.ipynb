{
 "cells": [
  {
   "cell_type": "markdown",
   "id": "c6b2fa25",
   "metadata": {},
   "source": [
    "### Notebook 2 - \n",
    "\n",
    "When the virtual machine broken, I elected to finish the assignment requirment using a windows based machine.  It was not possible to extract the dataset from hadoop to continue to analysis so I elected to use the same dataset extacted using python.\n",
    "\n",
    "The shape of the data is the same as the in extracted in Hadoop."
   ]
  },
  {
   "cell_type": "code",
   "execution_count": 1,
   "id": "5dd5023b",
   "metadata": {},
   "outputs": [],
   "source": [
    "import pandas as pd \n",
    "import numpy as np\n",
    "import pandas_datareader as web \n",
    "import datetime\n",
    "\n",
    "import matplotlib.pyplot as plt\n",
    "%matplotlib inline\n",
    "%config InlineBackend.figure_format = 'retina'\n",
    "import seaborn as sns\n",
    "\n",
    "from statsmodels.tsa.arima.model import ARIMA\n",
    "from statsmodels.tsa.statespace.sarimax import SARIMAX\n",
    "\n",
    "#relax the display limits on columns and rows\n",
    "pd.set_option('display.max_columns', None)\n",
    "pd.set_option('display.max_rows', None)\n",
    "\n",
    "import warnings\n",
    "warnings.filterwarnings('ignore')\n"
   ]
  },
  {
   "cell_type": "code",
   "execution_count": 2,
   "id": "ad038d8f",
   "metadata": {},
   "outputs": [],
   "source": [
    "# import the csv file filtered on weather\n",
    "\n",
    "df = pd.read_csv('weather.csv')"
   ]
  },
  {
   "cell_type": "code",
   "execution_count": 3,
   "id": "81a592e5",
   "metadata": {},
   "outputs": [
    {
     "data": {
      "text/plain": [
       "(10532, 6)"
      ]
     },
     "execution_count": 3,
     "metadata": {},
     "output_type": "execute_result"
    }
   ],
   "source": [
    "# look at the of the dataframe\n",
    "\n",
    "df.shape\n"
   ]
  },
  {
   "cell_type": "code",
   "execution_count": 4,
   "id": "d6e99b95",
   "metadata": {},
   "outputs": [],
   "source": [
    "# convert the full date column to a date column\n",
    "\n",
    "df['date'] = pd.to_datetime(df['date'])\n",
    "df['date_extract'] = df['date'].dt.date\n"
   ]
  },
  {
   "cell_type": "code",
   "execution_count": 5,
   "id": "a8a87fb9",
   "metadata": {},
   "outputs": [],
   "source": [
    "# extract the time  from the date column\n",
    "\n",
    "# Assuming your DataFrame is named 'df' and the date column is named 'date_column'\n",
    "#df['date'] = pd.to_datetime(df['date'])\n",
    "#df['time_extract'] = df['date'].dt.time"
   ]
  },
  {
   "cell_type": "code",
   "execution_count": 6,
   "id": "1db24879",
   "metadata": {},
   "outputs": [
    {
     "data": {
      "text/html": [
       "<div>\n",
       "<style scoped>\n",
       "    .dataframe tbody tr th:only-of-type {\n",
       "        vertical-align: middle;\n",
       "    }\n",
       "\n",
       "    .dataframe tbody tr th {\n",
       "        vertical-align: top;\n",
       "    }\n",
       "\n",
       "    .dataframe thead th {\n",
       "        text-align: right;\n",
       "    }\n",
       "</style>\n",
       "<table border=\"1\" class=\"dataframe\">\n",
       "  <thead>\n",
       "    <tr style=\"text-align: right;\">\n",
       "      <th></th>\n",
       "      <th>target</th>\n",
       "      <th>id</th>\n",
       "      <th>date</th>\n",
       "      <th>query</th>\n",
       "      <th>author</th>\n",
       "      <th>tweet</th>\n",
       "      <th>date_extract</th>\n",
       "    </tr>\n",
       "  </thead>\n",
       "  <tbody>\n",
       "    <tr>\n",
       "      <th>0</th>\n",
       "      <td>0</td>\n",
       "      <td>1467841885</td>\n",
       "      <td>2009-04-06 22:27:56</td>\n",
       "      <td>NO_QUERY</td>\n",
       "      <td>MissPassion</td>\n",
       "      <td>@thecoolestout Ehhh don't. Weather's gonna tak...</td>\n",
       "      <td>2009-04-06</td>\n",
       "    </tr>\n",
       "    <tr>\n",
       "      <th>1</th>\n",
       "      <td>0</td>\n",
       "      <td>1467912333</td>\n",
       "      <td>2009-04-06 22:46:44</td>\n",
       "      <td>NO_QUERY</td>\n",
       "      <td>Meg_Andruschak</td>\n",
       "      <td>@Steve_Buscemi the weather in Canada is freezing</td>\n",
       "      <td>2009-04-06</td>\n",
       "    </tr>\n",
       "    <tr>\n",
       "      <th>2</th>\n",
       "      <td>0</td>\n",
       "      <td>1467931501</td>\n",
       "      <td>2009-04-06 22:52:13</td>\n",
       "      <td>NO_QUERY</td>\n",
       "      <td>soulonfire68</td>\n",
       "      <td>We've been good. I'm not liking the snow right...</td>\n",
       "      <td>2009-04-06</td>\n",
       "    </tr>\n",
       "    <tr>\n",
       "      <th>3</th>\n",
       "      <td>0</td>\n",
       "      <td>1467960481</td>\n",
       "      <td>2009-04-06 23:00:26</td>\n",
       "      <td>NO_QUERY</td>\n",
       "      <td>breedimetria</td>\n",
       "      <td>@JessDubb lmao. U may have to wait for another...</td>\n",
       "      <td>2009-04-06</td>\n",
       "    </tr>\n",
       "    <tr>\n",
       "      <th>4</th>\n",
       "      <td>0</td>\n",
       "      <td>1468023365</td>\n",
       "      <td>2009-04-06 23:18:38</td>\n",
       "      <td>NO_QUERY</td>\n",
       "      <td>addictedtotext</td>\n",
       "      <td>it's going to be nice again tomorrow and then ...</td>\n",
       "      <td>2009-04-06</td>\n",
       "    </tr>\n",
       "  </tbody>\n",
       "</table>\n",
       "</div>"
      ],
      "text/plain": [
       "   target          id                date     query          author  \\\n",
       "0       0  1467841885 2009-04-06 22:27:56  NO_QUERY     MissPassion   \n",
       "1       0  1467912333 2009-04-06 22:46:44  NO_QUERY  Meg_Andruschak   \n",
       "2       0  1467931501 2009-04-06 22:52:13  NO_QUERY    soulonfire68   \n",
       "3       0  1467960481 2009-04-06 23:00:26  NO_QUERY    breedimetria   \n",
       "4       0  1468023365 2009-04-06 23:18:38  NO_QUERY  addictedtotext   \n",
       "\n",
       "                                               tweet date_extract  \n",
       "0  @thecoolestout Ehhh don't. Weather's gonna tak...   2009-04-06  \n",
       "1  @Steve_Buscemi the weather in Canada is freezing    2009-04-06  \n",
       "2  We've been good. I'm not liking the snow right...   2009-04-06  \n",
       "3  @JessDubb lmao. U may have to wait for another...   2009-04-06  \n",
       "4  it's going to be nice again tomorrow and then ...   2009-04-06  "
      ]
     },
     "execution_count": 6,
     "metadata": {},
     "output_type": "execute_result"
    }
   ],
   "source": [
    "df.head()\n"
   ]
  },
  {
   "cell_type": "markdown",
   "id": "3b134c1b",
   "metadata": {},
   "source": [
    "### Data Processing\n",
    "\n",
    "#### Reference\n",
    "1. https://medium.com/towards-data-science/another-twitter-sentiment-analysis-bb5b01ebad90\n",
    "2. https://wblillyman.medium.com/real-world-example-of-data-scraping-cleaning-with-python-and-beautifulsoup-74e42e7936fe\n",
    "3. "
   ]
  },
  {
   "cell_type": "code",
   "execution_count": 7,
   "id": "c16dd1ab",
   "metadata": {},
   "outputs": [],
   "source": [
    "# drop unnecessary columns \n",
    "\n",
    "df.drop(['id','date','query','author'],axis=1,inplace=True)"
   ]
  },
  {
   "cell_type": "code",
   "execution_count": 8,
   "id": "5e5001bc",
   "metadata": {},
   "outputs": [],
   "source": [
    "from bs4 import BeautifulSoup\n",
    "import re\n",
    "from nltk.tokenize import WordPunctTokenizer\n",
    "tok = WordPunctTokenizer()"
   ]
  },
  {
   "cell_type": "code",
   "execution_count": 9,
   "id": "4277aae8",
   "metadata": {},
   "outputs": [],
   "source": [
    "# removing @ symbols\n",
    "pat1 = r'@[A-Za-z0-9_]+'\n",
    "# removing weblinks\n",
    "pat2 = r'https?://[^ ]+'\n",
    "\n",
    "combined_pat = r'|'.join((pat1, pat2))\n",
    "# updated web site listing\n",
    "www_pat = r'www.[^ ]+'\n",
    "\n",
    "# negative words that should not be updated or removed\n",
    "negations_dic = {\"isn't\":\"is not\", \"aren't\":\"are not\", \"wasn't\":\"was not\", \"weren't\":\"were not\",\n",
    "                \"haven't\":\"have not\",\"hasn't\":\"has not\",\"hadn't\":\"had not\",\"won't\":\"will not\",\n",
    "                \"wouldn't\":\"would not\", \"don't\":\"do not\", \"doesn't\":\"does not\",\"didn't\":\"did not\",\n",
    "                \"can't\":\"can not\",\"couldn't\":\"could not\",\"shouldn't\":\"should not\",\"mightn't\":\"might not\",\n",
    "                \"mustn't\":\"must not\"}\n",
    "\n",
    "neg_pattern = re.compile(r'\\b(' + '|'.join(negations_dic.keys()) + r')\\b')\n"
   ]
  },
  {
   "cell_type": "code",
   "execution_count": 10,
   "id": "f71da0c9",
   "metadata": {},
   "outputs": [],
   "source": [
    "# remove noise such as html links, stop words / punctuation / #hashtags etc\n",
    "\n",
    "def tweet_cleaner(text):\n",
    "    # remove any HTLM references\n",
    "    soup = BeautifulSoup(text, 'lxml')\n",
    "    # create a new var called souped\n",
    "    souped = soup.get_text()\n",
    "    # removing @\n",
    "    stripped = re.sub(combined_pat, '', souped)\n",
    "    try:\n",
    "        # ensure all texted is in the utf-8 format\n",
    "        bom_removed = souped.decode(\"utf-8-sig\").replace(u\"\\ufffd\", \"?\")\n",
    "    except:\n",
    "        bom_removed = souped\n",
    "    stripped = re.sub(combined_pat, '', bom_removed)\n",
    "    stripped = re.sub(www_pat, '', stripped)\n",
    "\n",
    "    # convert all text to lowercase only\n",
    "    lower_case = stripped.lower()\n",
    "    neg_handled = neg_pattern.sub(lambda x: negations_dic[x.group()], lower_case)\n",
    "    \n",
    "    # remove any url links \n",
    "    letters_only = re.sub(\"[^a-zA-Z]\", \" \", neg_handled)\n",
    "    \n",
    "    # removes any white space using tokenize to join together text and then \n",
    "    # removing any resulting white spaces\n",
    "    words = [x for x  in tok.tokenize(letters_only) if len(x) > 1]\n",
    "   \n",
    "    return (\" \".join(words)).strip()\n"
   ]
  },
  {
   "cell_type": "code",
   "execution_count": 11,
   "id": "12bfac2b",
   "metadata": {},
   "outputs": [
    {
     "name": "stdout",
     "output_type": "stream",
     "text": [
      "Tweets 10532 of 10532 have been processed\n"
     ]
    }
   ],
   "source": [
    "# Apply the function to the 'tweet' column and create a new column 'Processed_tweets'\n",
    "\n",
    "start_index = 0\n",
    "end_index = 10532\n",
    "\n",
    "clean_tweet_texts = []\n",
    "\n",
    "for i in range(start_index, end_index):\n",
    "    if (i + 1) % end_index == start_index:\n",
    "        print(\"Tweets %d of %d have been processed\" % (i + 1, end_index))\n",
    "\n",
    "    clean_tweet_texts.append(tweet_cleaner(df['tweet'][i]))"
   ]
  },
  {
   "cell_type": "code",
   "execution_count": 12,
   "id": "0775ea5d",
   "metadata": {},
   "outputs": [
    {
     "name": "stdout",
     "output_type": "stream",
     "text": [
      "<class 'pandas.core.frame.DataFrame'>\n",
      "RangeIndex: 10532 entries, 0 to 10531\n",
      "Data columns (total 3 columns):\n",
      " #   Column        Non-Null Count  Dtype \n",
      "---  ------        --------------  ----- \n",
      " 0   target        10532 non-null  int64 \n",
      " 1   tweet         10532 non-null  object\n",
      " 2   date_extract  10532 non-null  object\n",
      "dtypes: int64(1), object(2)\n",
      "memory usage: 247.0+ KB\n"
     ]
    }
   ],
   "source": [
    "df.info()"
   ]
  },
  {
   "cell_type": "code",
   "execution_count": 13,
   "id": "ea09a0ce",
   "metadata": {},
   "outputs": [
    {
     "data": {
      "text/html": [
       "<div>\n",
       "<style scoped>\n",
       "    .dataframe tbody tr th:only-of-type {\n",
       "        vertical-align: middle;\n",
       "    }\n",
       "\n",
       "    .dataframe tbody tr th {\n",
       "        vertical-align: top;\n",
       "    }\n",
       "\n",
       "    .dataframe thead th {\n",
       "        text-align: right;\n",
       "    }\n",
       "</style>\n",
       "<table border=\"1\" class=\"dataframe\">\n",
       "  <thead>\n",
       "    <tr style=\"text-align: right;\">\n",
       "      <th></th>\n",
       "      <th>target</th>\n",
       "      <th>tweet</th>\n",
       "      <th>date_extract</th>\n",
       "    </tr>\n",
       "  </thead>\n",
       "  <tbody>\n",
       "    <tr>\n",
       "      <th>0</th>\n",
       "      <td>0</td>\n",
       "      <td>@thecoolestout Ehhh don't. Weather's gonna tak...</td>\n",
       "      <td>2009-04-06</td>\n",
       "    </tr>\n",
       "    <tr>\n",
       "      <th>1</th>\n",
       "      <td>0</td>\n",
       "      <td>@Steve_Buscemi the weather in Canada is freezing</td>\n",
       "      <td>2009-04-06</td>\n",
       "    </tr>\n",
       "    <tr>\n",
       "      <th>2</th>\n",
       "      <td>0</td>\n",
       "      <td>We've been good. I'm not liking the snow right...</td>\n",
       "      <td>2009-04-06</td>\n",
       "    </tr>\n",
       "    <tr>\n",
       "      <th>3</th>\n",
       "      <td>0</td>\n",
       "      <td>@JessDubb lmao. U may have to wait for another...</td>\n",
       "      <td>2009-04-06</td>\n",
       "    </tr>\n",
       "    <tr>\n",
       "      <th>4</th>\n",
       "      <td>0</td>\n",
       "      <td>it's going to be nice again tomorrow and then ...</td>\n",
       "      <td>2009-04-06</td>\n",
       "    </tr>\n",
       "  </tbody>\n",
       "</table>\n",
       "</div>"
      ],
      "text/plain": [
       "   target                                              tweet date_extract\n",
       "0       0  @thecoolestout Ehhh don't. Weather's gonna tak...   2009-04-06\n",
       "1       0  @Steve_Buscemi the weather in Canada is freezing    2009-04-06\n",
       "2       0  We've been good. I'm not liking the snow right...   2009-04-06\n",
       "3       0  @JessDubb lmao. U may have to wait for another...   2009-04-06\n",
       "4       0  it's going to be nice again tomorrow and then ...   2009-04-06"
      ]
     },
     "execution_count": 13,
     "metadata": {},
     "output_type": "execute_result"
    }
   ],
   "source": [
    "df.head()"
   ]
  },
  {
   "cell_type": "code",
   "execution_count": 14,
   "id": "57da2c9a",
   "metadata": {},
   "outputs": [],
   "source": [
    "# add a new column for the length of the text in the tweet column\n",
    "\n",
    "df['tweet_len'] = [len(t) for t in df.tweet]"
   ]
  },
  {
   "cell_type": "code",
   "execution_count": 15,
   "id": "0373683f",
   "metadata": {},
   "outputs": [
    {
     "data": {
      "image/png": "[encoded data removed]",
      "text/plain": [
       "<Figure size 500x500 with 1 Axes>"
      ]
     },
     "metadata": {
      "image/png": {
       "height": 428,
       "width": 443
      }
     },
     "output_type": "display_data"
    }
   ],
   "source": [
    "# look at the shape of the data\n",
    "\n",
    "fig, ax = plt.subplots(figsize=(5, 5))\n",
    "plt.boxplot(df.tweet_len)\n",
    "plt.show()"
   ]
  },
  {
   "cell_type": "code",
   "execution_count": 16,
   "id": "2732088d",
   "metadata": {},
   "outputs": [
    {
     "name": "stdout",
     "output_type": "stream",
     "text": [
      "Null value counts: False\n"
     ]
    }
   ],
   "source": [
    "# check for null values\n",
    "null_values = df.isnull()\n",
    "\n",
    "null_values_count = null_values.any().any()\n",
    "\n",
    "print(\"Null value counts:\", null_values_count)"
   ]
  },
  {
   "cell_type": "code",
   "execution_count": 17,
   "id": "b177d395",
   "metadata": {},
   "outputs": [
    {
     "name": "stdout",
     "output_type": "stream",
     "text": [
      "Duplicate count: 16\n"
     ]
    }
   ],
   "source": [
    "# check for duplicate data\n",
    "duplicates = df.duplicated()\n",
    "\n",
    "# count the values\n",
    "duplicate_count = duplicates.sum()\n",
    "\n",
    "print(\"Duplicate count:\", duplicate_count)"
   ]
  },
  {
   "cell_type": "code",
   "execution_count": 18,
   "id": "754e4f6a",
   "metadata": {},
   "outputs": [],
   "source": [
    "# drop the resulting duplicates\n",
    "\n",
    "df.drop_duplicates(inplace=True)"
   ]
  },
  {
   "cell_type": "code",
   "execution_count": 19,
   "id": "850fc240",
   "metadata": {},
   "outputs": [],
   "source": [
    "# sort values by date order\n",
    "\n",
    "df = df.sort_values(by='date_extract')"
   ]
  },
  {
   "cell_type": "markdown",
   "id": "c1d710cc",
   "metadata": {},
   "source": [
    "### Sentiment Analysis with TextBlob\n",
    "\n",
    "TextBlob - common text processing operation, allowing NLP with an easy to use interface. uses sentiment analysis, parsing etc.\n",
    "\n",
    "\n",
    "#### Reference\n",
    "\n",
    "1. https://textblob.readthedocs.io/en/dev/quickstart.html\n",
    "2. https://textblob.readthedocs.io/en/dev/quickstart.html?highlight=natural%20sentiment#sentiment-analysis\n",
    "3. https://medium.com/towards-data-science/covid-19-vaccine-whats-the-public-sentiment-7149c9b42b99#29b2\n",
    "4. https://www.analyticsvidhya.com/blog/2021/10/sentiment-analysis-with-textblob-and-vader/"
   ]
  },
  {
   "cell_type": "code",
   "execution_count": 20,
   "id": "d3133a50",
   "metadata": {},
   "outputs": [],
   "source": [
    "from textblob import TextBlob"
   ]
  },
  {
   "cell_type": "code",
   "execution_count": 21,
   "id": "a59fa790",
   "metadata": {},
   "outputs": [],
   "source": [
    "# Obtain sentiment scores generated by TextBlob\n",
    "\n",
    "df['textblob_score'] = df['tweet'].apply(lambda x: TextBlob(x).sentiment.polarity)\n"
   ]
  },
  {
   "cell_type": "code",
   "execution_count": 22,
   "id": "f364ac50",
   "metadata": {},
   "outputs": [],
   "source": [
    "# review the new textblob score\n",
    "\n",
    "# df.head()"
   ]
  },
  {
   "cell_type": "code",
   "execution_count": 23,
   "id": "8496c009",
   "metadata": {},
   "outputs": [],
   "source": [
    "# Set threshold to define neutral sentiment \n",
    "# a score greate than 0.05 is positive, 0 to 0.05 is Neutral and less than 1 is negative\n",
    "\n",
    "neutral_thresh = 0.05"
   ]
  },
  {
   "cell_type": "code",
   "execution_count": 24,
   "id": "82e195b6",
   "metadata": {},
   "outputs": [],
   "source": [
    "# Convert polarity score into sentiment categories\n",
    "\n",
    "df['textblob_sentiment'] = df['textblob_score'].apply(lambda c: 'Positive' if c >= neutral_thresh else ('Negative' if c <= -(neutral_thresh) else 'Neutral'))"
   ]
  },
  {
   "cell_type": "code",
   "execution_count": 25,
   "id": "a5ccbfc8",
   "metadata": {},
   "outputs": [
    {
     "data": {
      "text/html": [
       "<div>\n",
       "<style scoped>\n",
       "    .dataframe tbody tr th:only-of-type {\n",
       "        vertical-align: middle;\n",
       "    }\n",
       "\n",
       "    .dataframe tbody tr th {\n",
       "        vertical-align: top;\n",
       "    }\n",
       "\n",
       "    .dataframe thead th {\n",
       "        text-align: right;\n",
       "    }\n",
       "</style>\n",
       "<table border=\"1\" class=\"dataframe\">\n",
       "  <thead>\n",
       "    <tr style=\"text-align: right;\">\n",
       "      <th></th>\n",
       "      <th>target</th>\n",
       "      <th>tweet</th>\n",
       "      <th>date_extract</th>\n",
       "      <th>tweet_len</th>\n",
       "      <th>textblob_score</th>\n",
       "      <th>textblob_sentiment</th>\n",
       "    </tr>\n",
       "  </thead>\n",
       "  <tbody>\n",
       "    <tr>\n",
       "      <th>0</th>\n",
       "      <td>0</td>\n",
       "      <td>@thecoolestout Ehhh don't. Weather's gonna tak...</td>\n",
       "      <td>2009-04-06</td>\n",
       "      <td>77</td>\n",
       "      <td>-0.70000</td>\n",
       "      <td>Negative</td>\n",
       "    </tr>\n",
       "    <tr>\n",
       "      <th>6294</th>\n",
       "      <td>4</td>\n",
       "      <td>Is quite pleased that the weather forecast for...</td>\n",
       "      <td>2009-04-06</td>\n",
       "      <td>118</td>\n",
       "      <td>0.40000</td>\n",
       "      <td>Positive</td>\n",
       "    </tr>\n",
       "    <tr>\n",
       "      <th>6292</th>\n",
       "      <td>4</td>\n",
       "      <td>Getting a nice break, excited about classes an...</td>\n",
       "      <td>2009-04-06</td>\n",
       "      <td>119</td>\n",
       "      <td>0.46875</td>\n",
       "      <td>Positive</td>\n",
       "    </tr>\n",
       "    <tr>\n",
       "      <th>6291</th>\n",
       "      <td>4</td>\n",
       "      <td>ready for nice weather, day drinking &amp;amp; not...</td>\n",
       "      <td>2009-04-06</td>\n",
       "      <td>74</td>\n",
       "      <td>0.40000</td>\n",
       "      <td>Positive</td>\n",
       "    </tr>\n",
       "    <tr>\n",
       "      <th>6290</th>\n",
       "      <td>4</td>\n",
       "      <td>is home. Hmmm how lovely to be in 85 degree we...</td>\n",
       "      <td>2009-04-06</td>\n",
       "      <td>53</td>\n",
       "      <td>0.50000</td>\n",
       "      <td>Positive</td>\n",
       "    </tr>\n",
       "  </tbody>\n",
       "</table>\n",
       "</div>"
      ],
      "text/plain": [
       "      target                                              tweet date_extract  \\\n",
       "0          0  @thecoolestout Ehhh don't. Weather's gonna tak...   2009-04-06   \n",
       "6294       4  Is quite pleased that the weather forecast for...   2009-04-06   \n",
       "6292       4  Getting a nice break, excited about classes an...   2009-04-06   \n",
       "6291       4  ready for nice weather, day drinking &amp; not...   2009-04-06   \n",
       "6290       4  is home. Hmmm how lovely to be in 85 degree we...   2009-04-06   \n",
       "\n",
       "      tweet_len  textblob_score textblob_sentiment  \n",
       "0            77        -0.70000           Negative  \n",
       "6294        118         0.40000           Positive  \n",
       "6292        119         0.46875           Positive  \n",
       "6291         74         0.40000           Positive  \n",
       "6290         53         0.50000           Positive  "
      ]
     },
     "execution_count": 25,
     "metadata": {},
     "output_type": "execute_result"
    }
   ],
   "source": [
    "df.head()"
   ]
  },
  {
   "cell_type": "code",
   "execution_count": 26,
   "id": "0243481c",
   "metadata": {},
   "outputs": [
    {
     "data": {
      "image/png": "[encoded data removed]",
      "text/plain": [
       "<Figure size 640x480 with 1 Axes>"
      ]
     },
     "metadata": {
      "image/png": {
       "height": 468,
       "width": 610
      }
     },
     "output_type": "display_data"
    }
   ],
   "source": [
    "# Plot the sentiment scores\n",
    "\n",
    "sns.set()\n",
    "\n",
    "plt.ylabel('Sentiment Score')\n",
    "plt.xlabel('Date')\n",
    "plt.xticks(rotation=1000)\n",
    "plt.plot(df.index, df['textblob_sentiment'])\n",
    "\n",
    "plt.show()"
   ]
  },
  {
   "cell_type": "markdown",
   "id": "fb9ff593",
   "metadata": {},
   "source": [
    "#### Time Series Analysis \n",
    "\n",
    "##### References\n",
    "1. https://www.machinelearningplus.com/time-series/arima-model-time-series-forecasting-python/\n",
    "2. https://medium.com/towards-data-science/machine-learning-part-19-time-series-and-autoregressive-integrated-moving-average-model-arima-c1005347b0d7\n",
    "3. ARIMA - https://www.machinelearningplus.com/time-series/arima-model-time-series-forecasting-python/\n",
    "4. ARIMA - https://medium.com/towards-data-science/machine-learning-part-19-time-series-and-autoregressive-integrated-moving-average-model-arima-c1005347b0d7\n"
   ]
  },
  {
   "cell_type": "code",
   "execution_count": 27,
   "id": "0ce1d274",
   "metadata": {},
   "outputs": [
    {
     "data": {
      "text/html": [
       "<div>\n",
       "<style scoped>\n",
       "    .dataframe tbody tr th:only-of-type {\n",
       "        vertical-align: middle;\n",
       "    }\n",
       "\n",
       "    .dataframe tbody tr th {\n",
       "        vertical-align: top;\n",
       "    }\n",
       "\n",
       "    .dataframe thead th {\n",
       "        text-align: right;\n",
       "    }\n",
       "</style>\n",
       "<table border=\"1\" class=\"dataframe\">\n",
       "  <thead>\n",
       "    <tr style=\"text-align: right;\">\n",
       "      <th></th>\n",
       "      <th>target</th>\n",
       "      <th>tweet</th>\n",
       "      <th>date_extract</th>\n",
       "      <th>tweet_len</th>\n",
       "      <th>textblob_score</th>\n",
       "      <th>textblob_sentiment</th>\n",
       "    </tr>\n",
       "  </thead>\n",
       "  <tbody>\n",
       "    <tr>\n",
       "      <th>0</th>\n",
       "      <td>0</td>\n",
       "      <td>@thecoolestout Ehhh don't. Weather's gonna tak...</td>\n",
       "      <td>2009-04-06</td>\n",
       "      <td>77</td>\n",
       "      <td>-0.70000</td>\n",
       "      <td>Negative</td>\n",
       "    </tr>\n",
       "    <tr>\n",
       "      <th>6294</th>\n",
       "      <td>4</td>\n",
       "      <td>Is quite pleased that the weather forecast for...</td>\n",
       "      <td>2009-04-06</td>\n",
       "      <td>118</td>\n",
       "      <td>0.40000</td>\n",
       "      <td>Positive</td>\n",
       "    </tr>\n",
       "    <tr>\n",
       "      <th>6292</th>\n",
       "      <td>4</td>\n",
       "      <td>Getting a nice break, excited about classes an...</td>\n",
       "      <td>2009-04-06</td>\n",
       "      <td>119</td>\n",
       "      <td>0.46875</td>\n",
       "      <td>Positive</td>\n",
       "    </tr>\n",
       "    <tr>\n",
       "      <th>6291</th>\n",
       "      <td>4</td>\n",
       "      <td>ready for nice weather, day drinking &amp;amp; not...</td>\n",
       "      <td>2009-04-06</td>\n",
       "      <td>74</td>\n",
       "      <td>0.40000</td>\n",
       "      <td>Positive</td>\n",
       "    </tr>\n",
       "    <tr>\n",
       "      <th>6290</th>\n",
       "      <td>4</td>\n",
       "      <td>is home. Hmmm how lovely to be in 85 degree we...</td>\n",
       "      <td>2009-04-06</td>\n",
       "      <td>53</td>\n",
       "      <td>0.50000</td>\n",
       "      <td>Positive</td>\n",
       "    </tr>\n",
       "  </tbody>\n",
       "</table>\n",
       "</div>"
      ],
      "text/plain": [
       "      target                                              tweet date_extract  \\\n",
       "0          0  @thecoolestout Ehhh don't. Weather's gonna tak...   2009-04-06   \n",
       "6294       4  Is quite pleased that the weather forecast for...   2009-04-06   \n",
       "6292       4  Getting a nice break, excited about classes an...   2009-04-06   \n",
       "6291       4  ready for nice weather, day drinking &amp; not...   2009-04-06   \n",
       "6290       4  is home. Hmmm how lovely to be in 85 degree we...   2009-04-06   \n",
       "\n",
       "      tweet_len  textblob_score textblob_sentiment  \n",
       "0            77        -0.70000           Negative  \n",
       "6294        118         0.40000           Positive  \n",
       "6292        119         0.46875           Positive  \n",
       "6291         74         0.40000           Positive  \n",
       "6290         53         0.50000           Positive  "
      ]
     },
     "execution_count": 27,
     "metadata": {},
     "output_type": "execute_result"
    }
   ],
   "source": [
    "df.head()"
   ]
  },
  {
   "cell_type": "code",
   "execution_count": 28,
   "id": "0fa81317",
   "metadata": {},
   "outputs": [],
   "source": [
    "# Divide the DataFrame into one-week blocks\n",
    "\n",
    "week_blocks = []\n",
    "start_date = df['date_extract'].min()\n",
    "\n",
    "while start_date <= df['date_extract'].max():\n",
    "    end_date = start_date + pd.DateOffset(weeks=1)\n",
    "    week_df = df[(df['date_extract'] >= start_date) & (df['date_extract'] < end_date)]\n",
    "    week_blocks.append(week_df)\n",
    "    start_date = end_date\n"
   ]
  },
  {
   "cell_type": "code",
   "execution_count": 29,
   "id": "3a90c623",
   "metadata": {},
   "outputs": [],
   "source": [
    "#print(week_blocks)"
   ]
  },
  {
   "cell_type": "code",
   "execution_count": 30,
   "id": "4604fc0b",
   "metadata": {},
   "outputs": [],
   "source": [
    "# Divide the DataFrame into one-month blocks\n",
    "\n",
    "month_blocks = []\n",
    "start_date = df['date_extract'].min()\n",
    "while start_date <= df['date_extract'].max():\n",
    "    end_date = start_date + pd.DateOffset(months=1)\n",
    "    month_df = df[(df['date_extract'] >= start_date) & (df['date_extract'] < end_date)]\n",
    "    month_blocks.append(month_df)\n",
    "    start_date = end_date"
   ]
  },
  {
   "cell_type": "code",
   "execution_count": 31,
   "id": "4cdcd9bd",
   "metadata": {},
   "outputs": [],
   "source": [
    "#print(month_blocks)"
   ]
  },
  {
   "cell_type": "code",
   "execution_count": 32,
   "id": "9a6129e7",
   "metadata": {},
   "outputs": [],
   "source": [
    "# Divide the DataFrame into three-month blocks\n",
    "\n",
    "three_month_blocks = []\n",
    "start_date = df['date_extract'].min()\n",
    "while start_date <= df['date_extract'].max():\n",
    "    end_date = start_date + pd.DateOffset(months=3)\n",
    "    three_month_df = df[(df['date_extract'] >= start_date) & (df['date_extract'] < end_date)]\n",
    "    three_month_blocks.append(three_month_df)\n",
    "    start_date = end_date"
   ]
  },
  {
   "cell_type": "code",
   "execution_count": 33,
   "id": "d9cbfed7",
   "metadata": {},
   "outputs": [],
   "source": [
    "#print(three_month_blocks)"
   ]
  },
  {
   "cell_type": "code",
   "execution_count": 34,
   "id": "90d71c23",
   "metadata": {},
   "outputs": [
    {
     "name": "stdout",
     "output_type": "stream",
     "text": [
      "The shape of the train dataframe is  (844, 6)\n",
      "The shape of the test dataframe is  (9672, 6)\n"
     ]
    }
   ],
   "source": [
    "# Divide the data set into test and train\n",
    "\n",
    "# create a new df based on date which is less than \n",
    "train = df[df.date_extract <= pd.to_datetime(\"2009-04-30\", format='%Y-%m-%d')]\n",
    "\n",
    "# create a new df where the date is greater than or equal to 01 May\n",
    "test = df[df.date_extract >= pd.to_datetime(\"2009-05-01\", format='%Y-%m-%d')]\n",
    "\n",
    "print(\"The shape of the train dataframe is \", train.shape)\n",
    "print(\"The shape of the test dataframe is \", test.shape)"
   ]
  },
  {
   "cell_type": "code",
   "execution_count": 35,
   "id": "93c658cc",
   "metadata": {},
   "outputs": [],
   "source": [
    "# create test & train dataframe for weekly / Monthly and 3 month predictions\n",
    "train = df[df.date_extract <= pd.to_datetime(\"2009-04-30\", format='%Y-%m-%d')]\n",
    "\n",
    "# create a new df where the date is greater than or equal to 01 May\n",
    "test = df[df.date_extract >= pd.to_datetime(\"2009-05-01\", format='%Y-%m-%d')]"
   ]
  },
  {
   "cell_type": "code",
   "execution_count": 36,
   "id": "dd2d1ca3",
   "metadata": {},
   "outputs": [],
   "source": [
    "# Function to fit ARIMA model and make predictions\n",
    "\n",
    "def fit_arima(train_series, test_series):\n",
    "    # Fit ARIMA model with (p, d, q) parameters\n",
    "    model = ARIMA(train_series, order=(1, 1, 1))\n",
    "    model_fit = model.fit()\n",
    "    \n",
    "    # Make predictions for the test set\n",
    "    forecast = model_fit.forecast(steps=len(test_series))\n",
    "    predictions = forecast\n",
    "    \n",
    "    return predictions"
   ]
  },
  {
   "cell_type": "code",
   "execution_count": 37,
   "id": "37fb1c22",
   "metadata": {
    "scrolled": true
   },
   "outputs": [],
   "source": [
    "# Apply ARIMA on each block of week / month and 3 months to make predictions\n",
    "\n",
    "week_predictions = [fit_arima(block['target'][:-1], block['target'][-1:]) for block in week_blocks]\n",
    "\n",
    "month_predictions = [fit_arima(block['target'][:-1], block['target'][-1:]) for block in month_blocks]\n",
    "\n",
    "three_month_predictions = [fit_arima(block['target'][:-1], block['target'][-1:]) for block in three_month_blocks]\n",
    "\n"
   ]
  },
  {
   "cell_type": "code",
   "execution_count": 38,
   "id": "f949241c",
   "metadata": {},
   "outputs": [],
   "source": [
    "# Apply ARIMA on the train set and make predictions for the test set\n",
    "train_series = train['target']\n",
    "\n",
    "test_series = test['target']"
   ]
  },
  {
   "cell_type": "code",
   "execution_count": 39,
   "id": "7f0b7c0a",
   "metadata": {},
   "outputs": [],
   "source": [
    "# predictions based on the full dataset\n",
    "predictions = fit_arima(train_series, test_series)"
   ]
  },
  {
   "cell_type": "code",
   "execution_count": 40,
   "id": "54dc2dc7",
   "metadata": {},
   "outputs": [],
   "source": [
    "# Print the predictions\n",
    "#print(\"ARIMA Predictions on full dataset:\", predictions)"
   ]
  },
  {
   "cell_type": "markdown",
   "id": "9cfa6a4d",
   "metadata": {},
   "source": [
    "##### Apply data to a weekly dataset"
   ]
  },
  {
   "cell_type": "code",
   "execution_count": 41,
   "id": "3c59475e",
   "metadata": {},
   "outputs": [],
   "source": [
    "# predictions based on weekly data \n",
    "week_predictions = fit_arima(train_series, test_series)"
   ]
  },
  {
   "cell_type": "code",
   "execution_count": 42,
   "id": "1589a763",
   "metadata": {},
   "outputs": [],
   "source": [
    "# Apply ARIMA on the train set and make predictions for the test set\n",
    "Weeky_train_series = train['target']\n",
    "\n",
    "Weeky_test_series = test['target']"
   ]
  },
  {
   "cell_type": "code",
   "execution_count": 43,
   "id": "07a73091",
   "metadata": {},
   "outputs": [],
   "source": [
    "# Print the predictions\n",
    "#print(\"ARIMA Predictions on full dataset:\", week_predictions)"
   ]
  },
  {
   "cell_type": "code",
   "execution_count": 44,
   "id": "75b354d0",
   "metadata": {},
   "outputs": [
    {
     "data": {
      "image/png": "[encoded data removed]",
      "text/plain": [
       "<Figure size 1000x600 with 1 Axes>"
      ]
     },
     "metadata": {
      "image/png": {
       "height": 550,
       "width": 850
      }
     },
     "output_type": "display_data"
    }
   ],
   "source": [
    "# Plot the time series and predictions for one week\n",
    "\n",
    "plt.figure(figsize=(10, 6))\n",
    "plt.plot(week_blocks[0]['date_extract'], week_blocks[0]['target'], label='Actual')\n",
    "plt.plot(week_blocks[0]['date_extract'], week_predictions[:len(week_blocks[0])], label='Prediction')\n",
    "plt.xlabel('Date')\n",
    "plt.ylabel('Target')\n",
    "plt.title('Time Series - One Week')\n",
    "plt.legend()\n",
    "plt.show()\n",
    "\n"
   ]
  },
  {
   "cell_type": "markdown",
   "id": "707c3d25",
   "metadata": {},
   "source": [
    "#### Apply to a monthly dataset"
   ]
  },
  {
   "cell_type": "code",
   "execution_count": 45,
   "id": "be666a20",
   "metadata": {},
   "outputs": [],
   "source": [
    "# predictions based on one month of data \n",
    "month_predictions = fit_arima(train_series, test_series)"
   ]
  },
  {
   "cell_type": "code",
   "execution_count": 46,
   "id": "e146f558",
   "metadata": {},
   "outputs": [],
   "source": [
    "# Apply ARIMA on the train set and make predictions\n",
    "month_train_series = train['target']\n",
    "\n",
    "month_test_series = test['target']"
   ]
  },
  {
   "cell_type": "code",
   "execution_count": 47,
   "id": "bd95d24a",
   "metadata": {},
   "outputs": [],
   "source": [
    "# Print the predictions\n",
    "#print(\"ARIMA Predictions on full dataset:\", month_predictions)"
   ]
  },
  {
   "cell_type": "code",
   "execution_count": 48,
   "id": "c35c8b84",
   "metadata": {},
   "outputs": [
    {
     "data": {
      "image/png": "[encoded data removed]",
      "text/plain": [
       "<Figure size 1000x600 with 1 Axes>"
      ]
     },
     "metadata": {
      "image/png": {
       "height": 550,
       "width": 879
      }
     },
     "output_type": "display_data"
    }
   ],
   "source": [
    "# Plot the time series and predictions for one week\n",
    "\n",
    "plt.figure(figsize=(10, 6))\n",
    "plt.plot(month_blocks[0]['date_extract'], month_blocks[0]['target'], label='Actual')\n",
    "plt.plot(month_blocks[0]['date_extract'], month_predictions[:len(month_blocks[0])], label='Prediction')\n",
    "plt.xlabel('Date')\n",
    "plt.ylabel('Target')\n",
    "plt.title('Time Series - One Month')\n",
    "plt.legend()\n",
    "plt.show()"
   ]
  },
  {
   "cell_type": "markdown",
   "id": "9210a31c",
   "metadata": {},
   "source": [
    "#### Three Month Preditions"
   ]
  },
  {
   "cell_type": "code",
   "execution_count": 49,
   "id": "87203938",
   "metadata": {},
   "outputs": [],
   "source": [
    "# predictions based on the three months of data\n",
    "three_month_predictions = fit_arima(train_series, test_series)"
   ]
  },
  {
   "cell_type": "code",
   "execution_count": 50,
   "id": "5b5d22fa",
   "metadata": {},
   "outputs": [],
   "source": [
    "# Apply ARIMA on the train set and make predictions for the test set\n",
    "three_month_train_series = train['target']\n",
    "\n",
    "three_month_test_series = test['target']"
   ]
  },
  {
   "cell_type": "code",
   "execution_count": 51,
   "id": "53f6fc1a",
   "metadata": {},
   "outputs": [],
   "source": [
    "# Print the predictions\n",
    "#print(\"ARIMA Predictions on full dataset:\", three_month_predictions)"
   ]
  },
  {
   "cell_type": "code",
   "execution_count": 53,
   "id": "9e6d5d77",
   "metadata": {},
   "outputs": [],
   "source": [
    "# Plot the time series and predictions for three months\n",
    "\n",
    "#plt.figure(figsize=(10, 6))\n",
    "#plt.plot(three_month_blocks[0]['date_extract'].reset_index(drop=True), three_month_blocks[0]['target'], label='Actual')\n",
    "#plt.plot(three_month_blocks[0]['date_extract'].reset_index(drop=True), three_month_predictions[:len(three_month_blocks[0])], label='Prediction')\n",
    "#plt.xlabel('Date')\n",
    "#plt.ylabel('Target')\n",
    "#plt.title('Time Series - Three Months')\n",
    "#plt.legend()\n",
    "#plt.show()"
   ]
  },
  {
   "cell_type": "markdown",
   "id": "9c7c4a82",
   "metadata": {},
   "source": [
    "### Interactive Dashboard\n",
    "\n",
    "#### References\n",
    "\n",
    "1. Interactive Dashboards - https://medium.com/towards-data-science/dash-for-beginners-create-interactive-python-dashboards-338bfcb6ffa4\n",
    "2. Dashboards using dash - https://realpython.com/python-dash/\n",
    "3. Tkinter - https://medium.com/@amitprius/tkinter-python-in-built-graphical-user-interface-gui-3ed4750f7124\n",
    "4. GUI Programming with Tkinter - https://realpython.com/python-gui-tkinter/\n",
    "5. Flask Web applications - https://realpython.com/python-web-applications-with-flask-part-i/\n",
    "6. Flask - getting started - https://www.pluralsight.com/courses/flask-getting-started?clickid=1k0XIT1dTxyNUncy6C24VzeBUkASGVT1HQ1J1E0&irgwc=1&mpid=1137078&aid=7010a000001xAKZAA2&utm_medium=digital_affiliate&utm_campaign=1137078&utm_source=impactradius\n",
    "7. Python web apps with flask - https://www.codecademy.com/learn/paths/build-python-web-apps-flask?periods=year&plan_id=proGoldAnnualV2&utm_source=pepperjam&utm_medium=affiliate&utm_term=225746&clickId=4395300176&pj_creativeid=8-12462&pj_publisherid=225746"
   ]
  },
  {
   "cell_type": "code",
   "execution_count": 54,
   "id": "6e4dd832",
   "metadata": {},
   "outputs": [],
   "source": [
    "# interactive plot libaries\n",
    "\n",
    "import dash\n",
    "import dash_core_components as dcc\n",
    "import dash_html_components as html\n",
    "import plotly.express as px\n"
   ]
  },
  {
   "cell_type": "code",
   "execution_count": 55,
   "id": "ed062848",
   "metadata": {},
   "outputs": [],
   "source": [
    "# initialize the Flask app\n",
    "\n",
    "app = dash.Dash(__name__)\n"
   ]
  },
  {
   "cell_type": "code",
   "execution_count": 56,
   "id": "f6bfa7f5",
   "metadata": {},
   "outputs": [],
   "source": [
    "# Define the layout of the dashboard using HTML components and Dash components:\n",
    "\n",
    "@app.callback(\n",
    "    dash.dependencies.Output('graph', 'figure'),\n",
    "    [dash.dependencies.Input('dropdown', 'value')]\n",
    ")\n",
    "\n",
    "# Function to update the graph based on the selected value\n",
    "def update_graph(selected_value):\n",
    "    \n",
    "    # Example: Generate a plotly express figure based on the selected value\n",
    "    fig = px.scatter(data_frame=data, x='x', y='y', color=selected_value)\n",
    "    \n",
    "    return fig\n"
   ]
  },
  {
   "cell_type": "code",
   "execution_count": 57,
   "id": "60575269",
   "metadata": {},
   "outputs": [
    {
     "name": "stdout",
     "output_type": "stream",
     "text": [
      "Dash is running on http://127.0.0.1:8050/\n",
      "\n",
      " * Serving Flask app '__main__'\n",
      " * Debug mode: on\n"
     ]
    },
    {
     "ename": "SystemExit",
     "evalue": "1",
     "output_type": "error",
     "traceback": [
      "An exception has occurred, use %tb to see the full traceback.\n",
      "\u001b[1;31mSystemExit\u001b[0m\u001b[1;31m:\u001b[0m 1\n"
     ]
    }
   ],
   "source": [
    "# cmds to run the dashboard\n",
    "\n",
    "if __name__ == '__main__':\n",
    "    app.run_server(debug=True)\n"
   ]
  },
  {
   "cell_type": "code",
   "execution_count": 58,
   "id": "ab7c483e",
   "metadata": {},
   "outputs": [
    {
     "ename": "SystemExit",
     "evalue": "1",
     "output_type": "error",
     "traceback": [
      "\u001b[1;31m---------------------------------------------------------------------------\u001b[0m",
      "\u001b[1;31mSystemExit\u001b[0m                                Traceback (most recent call last)",
      "Input \u001b[1;32mIn [57]\u001b[0m, in \u001b[0;36m<cell line: 3>\u001b[1;34m()\u001b[0m\n\u001b[0;32m      1\u001b[0m \u001b[38;5;66;03m# cmds to run the dashboard\u001b[39;00m\n\u001b[0;32m      3\u001b[0m \u001b[38;5;28;01mif\u001b[39;00m \u001b[38;5;18m__name__\u001b[39m \u001b[38;5;241m==\u001b[39m \u001b[38;5;124m'\u001b[39m\u001b[38;5;124m__main__\u001b[39m\u001b[38;5;124m'\u001b[39m:\n\u001b[1;32m----> 4\u001b[0m     \u001b[43mapp\u001b[49m\u001b[38;5;241;43m.\u001b[39;49m\u001b[43mrun_server\u001b[49m\u001b[43m(\u001b[49m\u001b[43mdebug\u001b[49m\u001b[38;5;241;43m=\u001b[39;49m\u001b[38;5;28;43;01mTrue\u001b[39;49;00m\u001b[43m)\u001b[49m\n",
      "File \u001b[1;32m~\\Anaconda3\\lib\\site-packages\\dash\\dash.py:2047\u001b[0m, in \u001b[0;36mDash.run_server\u001b[1;34m(self, *args, **kwargs)\u001b[0m\n\u001b[0;32m   2041\u001b[0m \u001b[38;5;28;01mdef\u001b[39;00m \u001b[38;5;21mrun_server\u001b[39m(\u001b[38;5;28mself\u001b[39m, \u001b[38;5;241m*\u001b[39margs, \u001b[38;5;241m*\u001b[39m\u001b[38;5;241m*\u001b[39mkwargs):\n\u001b[0;32m   2042\u001b[0m     \u001b[38;5;124;03m\"\"\"`run_server` is a deprecated alias of `run` and may be removed in a\u001b[39;00m\n\u001b[0;32m   2043\u001b[0m \u001b[38;5;124;03m    future version. We recommend using `app.run` instead.\u001b[39;00m\n\u001b[0;32m   2044\u001b[0m \n\u001b[0;32m   2045\u001b[0m \u001b[38;5;124;03m    See `app.run` for usage information.\u001b[39;00m\n\u001b[0;32m   2046\u001b[0m \u001b[38;5;124;03m    \"\"\"\u001b[39;00m\n\u001b[1;32m-> 2047\u001b[0m     \u001b[38;5;28mself\u001b[39m\u001b[38;5;241m.\u001b[39mrun(\u001b[38;5;241m*\u001b[39margs, \u001b[38;5;241m*\u001b[39m\u001b[38;5;241m*\u001b[39mkwargs)\n",
      "File \u001b[1;32m~\\Anaconda3\\lib\\site-packages\\dash\\dash.py:1955\u001b[0m, in \u001b[0;36mDash.run\u001b[1;34m(self, host, port, proxy, debug, dev_tools_ui, dev_tools_props_check, dev_tools_serve_dev_bundles, dev_tools_hot_reload, dev_tools_hot_reload_interval, dev_tools_hot_reload_watch_interval, dev_tools_hot_reload_max_retry, dev_tools_silence_routes_logging, dev_tools_prune_errors, **flask_run_options)\u001b[0m\n\u001b[0;32m   1952\u001b[0m         \u001b[38;5;28;01melif\u001b[39;00m os\u001b[38;5;241m.\u001b[39mpath\u001b[38;5;241m.\u001b[39misfile(path):\n\u001b[0;32m   1953\u001b[0m             extra_files\u001b[38;5;241m.\u001b[39mappend(path)\n\u001b[1;32m-> 1955\u001b[0m \u001b[38;5;28mself\u001b[39m\u001b[38;5;241m.\u001b[39mserver\u001b[38;5;241m.\u001b[39mrun(host\u001b[38;5;241m=\u001b[39mhost, port\u001b[38;5;241m=\u001b[39mport, debug\u001b[38;5;241m=\u001b[39mdebug, \u001b[38;5;241m*\u001b[39m\u001b[38;5;241m*\u001b[39mflask_run_options)\n",
      "File \u001b[1;32m~\\Anaconda3\\lib\\site-packages\\flask\\app.py:889\u001b[0m, in \u001b[0;36mFlask.run\u001b[1;34m(self, host, port, debug, load_dotenv, **options)\u001b[0m\n\u001b[0;32m    886\u001b[0m \u001b[38;5;28;01mfrom\u001b[39;00m \u001b[38;5;21;01mwerkzeug\u001b[39;00m\u001b[38;5;21;01m.\u001b[39;00m\u001b[38;5;21;01mserving\u001b[39;00m \u001b[38;5;28;01mimport\u001b[39;00m run_simple\n\u001b[0;32m    888\u001b[0m \u001b[38;5;28;01mtry\u001b[39;00m:\n\u001b[1;32m--> 889\u001b[0m     run_simple(t\u001b[38;5;241m.\u001b[39mcast(\u001b[38;5;28mstr\u001b[39m, host), port, \u001b[38;5;28mself\u001b[39m, \u001b[38;5;241m*\u001b[39m\u001b[38;5;241m*\u001b[39moptions)\n\u001b[0;32m    890\u001b[0m \u001b[38;5;28;01mfinally\u001b[39;00m:\n\u001b[0;32m    891\u001b[0m     \u001b[38;5;66;03m# reset the first request information if the development server\u001b[39;00m\n\u001b[0;32m    892\u001b[0m     \u001b[38;5;66;03m# reset normally.  This makes it possible to restart the server\u001b[39;00m\n\u001b[0;32m    893\u001b[0m     \u001b[38;5;66;03m# without reloader and that stuff from an interactive shell.\u001b[39;00m\n\u001b[0;32m    894\u001b[0m     \u001b[38;5;28mself\u001b[39m\u001b[38;5;241m.\u001b[39m_got_first_request \u001b[38;5;241m=\u001b[39m \u001b[38;5;28;01mFalse\u001b[39;00m\n",
      "File \u001b[1;32m~\\Anaconda3\\lib\\site-packages\\werkzeug\\serving.py:1097\u001b[0m, in \u001b[0;36mrun_simple\u001b[1;34m(hostname, port, application, use_reloader, use_debugger, use_evalex, extra_files, exclude_patterns, reloader_interval, reloader_type, threaded, processes, request_handler, static_files, passthrough_errors, ssl_context)\u001b[0m\n\u001b[0;32m   1094\u001b[0m \u001b[38;5;28;01mfrom\u001b[39;00m \u001b[38;5;21;01m.\u001b[39;00m\u001b[38;5;21;01m_reloader\u001b[39;00m \u001b[38;5;28;01mimport\u001b[39;00m run_with_reloader\n\u001b[0;32m   1096\u001b[0m \u001b[38;5;28;01mtry\u001b[39;00m:\n\u001b[1;32m-> 1097\u001b[0m     \u001b[43mrun_with_reloader\u001b[49m\u001b[43m(\u001b[49m\n\u001b[0;32m   1098\u001b[0m \u001b[43m        \u001b[49m\u001b[43msrv\u001b[49m\u001b[38;5;241;43m.\u001b[39;49m\u001b[43mserve_forever\u001b[49m\u001b[43m,\u001b[49m\n\u001b[0;32m   1099\u001b[0m \u001b[43m        \u001b[49m\u001b[43mextra_files\u001b[49m\u001b[38;5;241;43m=\u001b[39;49m\u001b[43mextra_files\u001b[49m\u001b[43m,\u001b[49m\n\u001b[0;32m   1100\u001b[0m \u001b[43m        \u001b[49m\u001b[43mexclude_patterns\u001b[49m\u001b[38;5;241;43m=\u001b[39;49m\u001b[43mexclude_patterns\u001b[49m\u001b[43m,\u001b[49m\n\u001b[0;32m   1101\u001b[0m \u001b[43m        \u001b[49m\u001b[43minterval\u001b[49m\u001b[38;5;241;43m=\u001b[39;49m\u001b[43mreloader_interval\u001b[49m\u001b[43m,\u001b[49m\n\u001b[0;32m   1102\u001b[0m \u001b[43m        \u001b[49m\u001b[43mreloader_type\u001b[49m\u001b[38;5;241;43m=\u001b[39;49m\u001b[43mreloader_type\u001b[49m\u001b[43m,\u001b[49m\n\u001b[0;32m   1103\u001b[0m \u001b[43m    \u001b[49m\u001b[43m)\u001b[49m\n\u001b[0;32m   1104\u001b[0m \u001b[38;5;28;01mfinally\u001b[39;00m:\n\u001b[0;32m   1105\u001b[0m     srv\u001b[38;5;241m.\u001b[39mserver_close()\n",
      "File \u001b[1;32m~\\Anaconda3\\lib\\site-packages\\werkzeug\\_reloader.py:456\u001b[0m, in \u001b[0;36mrun_with_reloader\u001b[1;34m(main_func, extra_files, exclude_patterns, interval, reloader_type)\u001b[0m\n\u001b[0;32m    454\u001b[0m             reloader\u001b[38;5;241m.\u001b[39mrun()\n\u001b[0;32m    455\u001b[0m     \u001b[38;5;28;01melse\u001b[39;00m:\n\u001b[1;32m--> 456\u001b[0m         \u001b[43msys\u001b[49m\u001b[38;5;241;43m.\u001b[39;49m\u001b[43mexit\u001b[49m\u001b[43m(\u001b[49m\u001b[43mreloader\u001b[49m\u001b[38;5;241;43m.\u001b[39;49m\u001b[43mrestart_with_reloader\u001b[49m\u001b[43m(\u001b[49m\u001b[43m)\u001b[49m\u001b[43m)\u001b[49m\n\u001b[0;32m    457\u001b[0m \u001b[38;5;28;01mexcept\u001b[39;00m \u001b[38;5;167;01mKeyboardInterrupt\u001b[39;00m:\n\u001b[0;32m    458\u001b[0m     \u001b[38;5;28;01mpass\u001b[39;00m\n",
      "\u001b[1;31mSystemExit\u001b[0m: 1"
     ]
    }
   ],
   "source": []
  },
  {
   "cell_type": "code",
   "execution_count": null,
   "id": "6c99e1b5",
   "metadata": {},
   "outputs": [],
   "source": []
  },
  {
   "cell_type": "code",
   "execution_count": null,
   "id": "7ff796f1",
   "metadata": {},
   "outputs": [],
   "source": []
  },
  {
   "cell_type": "code",
   "execution_count": null,
   "id": "d26fca12",
   "metadata": {},
   "outputs": [],
   "source": []
  },
  {
   "cell_type": "code",
   "execution_count": null,
   "id": "347889aa",
   "metadata": {},
   "outputs": [],
   "source": []
  },
  {
   "cell_type": "code",
   "execution_count": null,
   "id": "04915025",
   "metadata": {},
   "outputs": [],
   "source": []
  },
  {
   "cell_type": "code",
   "execution_count": null,
   "id": "77ebcc1f",
   "metadata": {},
   "outputs": [],
   "source": []
  },
  {
   "cell_type": "code",
   "execution_count": null,
   "id": "0db3256b",
   "metadata": {},
   "outputs": [],
   "source": []
  }
 ],
 "metadata": {
  "kernelspec": {
   "display_name": "Python 3 (ipykernel)",
   "language": "python",
   "name": "python3"
  },
  "language_info": {
   "codemirror_mode": {
    "name": "ipython",
    "version": 3
   },
   "file_extension": ".py",
   "mimetype": "text/x-python",
   "name": "python",
   "nbconvert_exporter": "python",
   "pygments_lexer": "ipython3",
   "version": "3.9.12"
  }
 },
 "nbformat": 4,
 "nbformat_minor": 5
}
