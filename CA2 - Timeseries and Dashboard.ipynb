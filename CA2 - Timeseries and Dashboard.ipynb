{
 "cells": [
  {
   "cell_type": "markdown",
   "id": "c6b2fa25",
   "metadata": {},
   "source": [
    "### Notebook 2 - \n",
    "\n",
    "When the virtual machine broken, I elected to finish the assignment requirment using a windows based machine.  It was not possible to extract the dataset from hadoop to continue to analysis so I elected to use the same dataset extacted using python.\n",
    "\n",
    "The shape of the data is the same as the in extracted in Hadoop."
   ]
  },
  {
   "cell_type": "code",
   "execution_count": 1,
   "id": "5dd5023b",
   "metadata": {},
   "outputs": [],
   "source": [
    "import pandas as pd \n",
    "import numpy as np\n",
    "import pandas_datareader as web \n",
    "import datetime\n",
    "\n",
    "import matplotlib.pyplot as plt\n",
    "%matplotlib inline\n",
    "%config InlineBackend.figure_format = 'retina'\n",
    "import seaborn as sns\n",
    "\n",
    "from statsmodels.tsa.statespace.sarimax import SARIMAX\n",
    "from statsmodels.tsa.arima_model import ARIMA\n",
    "\n",
    "#relax the display limits on columns and rows\n",
    "pd.set_option('display.max_columns', None)\n",
    "pd.set_option('display.max_rows', None)\n",
    "\n",
    "import warnings\n",
    "warnings.filterwarnings('ignore')\n"
   ]
  },
  {
   "cell_type": "code",
   "execution_count": 2,
   "id": "ad038d8f",
   "metadata": {},
   "outputs": [],
   "source": [
    "# import the csv file filtered on weather\n",
    "\n",
    "df = pd.read_csv('weather.csv')"
   ]
  },
  {
   "cell_type": "code",
   "execution_count": 3,
   "id": "81a592e5",
   "metadata": {},
   "outputs": [
    {
     "data": {
      "text/plain": [
       "(10532, 6)"
      ]
     },
     "execution_count": 3,
     "metadata": {},
     "output_type": "execute_result"
    }
   ],
   "source": [
    "# look at the of the dataframe\n",
    "\n",
    "df.shape\n"
   ]
  },
  {
   "cell_type": "code",
   "execution_count": 4,
   "id": "d6e99b95",
   "metadata": {},
   "outputs": [],
   "source": [
    "# convert the full date column to a date column\n",
    "\n",
    "df['date'] = pd.to_datetime(df['date'])\n",
    "df['date_extract'] = df['date'].dt.date\n"
   ]
  },
  {
   "cell_type": "code",
   "execution_count": 5,
   "id": "a8a87fb9",
   "metadata": {},
   "outputs": [],
   "source": [
    "# extract the time  from the date column\n",
    "\n",
    "# Assuming your DataFrame is named 'df' and the date column is named 'date_column'\n",
    "df['date'] = pd.to_datetime(df['date'])\n",
    "df['time_extract'] = df['date'].dt.time"
   ]
  },
  {
   "cell_type": "code",
   "execution_count": 6,
   "id": "1db24879",
   "metadata": {},
   "outputs": [
    {
     "data": {
      "text/html": [
       "<div>\n",
       "<style scoped>\n",
       "    .dataframe tbody tr th:only-of-type {\n",
       "        vertical-align: middle;\n",
       "    }\n",
       "\n",
       "    .dataframe tbody tr th {\n",
       "        vertical-align: top;\n",
       "    }\n",
       "\n",
       "    .dataframe thead th {\n",
       "        text-align: right;\n",
       "    }\n",
       "</style>\n",
       "<table border=\"1\" class=\"dataframe\">\n",
       "  <thead>\n",
       "    <tr style=\"text-align: right;\">\n",
       "      <th></th>\n",
       "      <th>target</th>\n",
       "      <th>id</th>\n",
       "      <th>date</th>\n",
       "      <th>query</th>\n",
       "      <th>author</th>\n",
       "      <th>tweet</th>\n",
       "      <th>date_extract</th>\n",
       "      <th>time_extract</th>\n",
       "    </tr>\n",
       "  </thead>\n",
       "  <tbody>\n",
       "    <tr>\n",
       "      <th>0</th>\n",
       "      <td>0</td>\n",
       "      <td>1467841885</td>\n",
       "      <td>2009-04-06 22:27:56</td>\n",
       "      <td>NO_QUERY</td>\n",
       "      <td>MissPassion</td>\n",
       "      <td>@thecoolestout Ehhh don't. Weather's gonna tak...</td>\n",
       "      <td>2009-04-06</td>\n",
       "      <td>22:27:56</td>\n",
       "    </tr>\n",
       "    <tr>\n",
       "      <th>1</th>\n",
       "      <td>0</td>\n",
       "      <td>1467912333</td>\n",
       "      <td>2009-04-06 22:46:44</td>\n",
       "      <td>NO_QUERY</td>\n",
       "      <td>Meg_Andruschak</td>\n",
       "      <td>@Steve_Buscemi the weather in Canada is freezing</td>\n",
       "      <td>2009-04-06</td>\n",
       "      <td>22:46:44</td>\n",
       "    </tr>\n",
       "    <tr>\n",
       "      <th>2</th>\n",
       "      <td>0</td>\n",
       "      <td>1467931501</td>\n",
       "      <td>2009-04-06 22:52:13</td>\n",
       "      <td>NO_QUERY</td>\n",
       "      <td>soulonfire68</td>\n",
       "      <td>We've been good. I'm not liking the snow right...</td>\n",
       "      <td>2009-04-06</td>\n",
       "      <td>22:52:13</td>\n",
       "    </tr>\n",
       "    <tr>\n",
       "      <th>3</th>\n",
       "      <td>0</td>\n",
       "      <td>1467960481</td>\n",
       "      <td>2009-04-06 23:00:26</td>\n",
       "      <td>NO_QUERY</td>\n",
       "      <td>breedimetria</td>\n",
       "      <td>@JessDubb lmao. U may have to wait for another...</td>\n",
       "      <td>2009-04-06</td>\n",
       "      <td>23:00:26</td>\n",
       "    </tr>\n",
       "    <tr>\n",
       "      <th>4</th>\n",
       "      <td>0</td>\n",
       "      <td>1468023365</td>\n",
       "      <td>2009-04-06 23:18:38</td>\n",
       "      <td>NO_QUERY</td>\n",
       "      <td>addictedtotext</td>\n",
       "      <td>it's going to be nice again tomorrow and then ...</td>\n",
       "      <td>2009-04-06</td>\n",
       "      <td>23:18:38</td>\n",
       "    </tr>\n",
       "  </tbody>\n",
       "</table>\n",
       "</div>"
      ],
      "text/plain": [
       "   target          id                date     query          author  \\\n",
       "0       0  1467841885 2009-04-06 22:27:56  NO_QUERY     MissPassion   \n",
       "1       0  1467912333 2009-04-06 22:46:44  NO_QUERY  Meg_Andruschak   \n",
       "2       0  1467931501 2009-04-06 22:52:13  NO_QUERY    soulonfire68   \n",
       "3       0  1467960481 2009-04-06 23:00:26  NO_QUERY    breedimetria   \n",
       "4       0  1468023365 2009-04-06 23:18:38  NO_QUERY  addictedtotext   \n",
       "\n",
       "                                               tweet date_extract time_extract  \n",
       "0  @thecoolestout Ehhh don't. Weather's gonna tak...   2009-04-06     22:27:56  \n",
       "1  @Steve_Buscemi the weather in Canada is freezing    2009-04-06     22:46:44  \n",
       "2  We've been good. I'm not liking the snow right...   2009-04-06     22:52:13  \n",
       "3  @JessDubb lmao. U may have to wait for another...   2009-04-06     23:00:26  \n",
       "4  it's going to be nice again tomorrow and then ...   2009-04-06     23:18:38  "
      ]
     },
     "execution_count": 6,
     "metadata": {},
     "output_type": "execute_result"
    }
   ],
   "source": [
    "df.head()\n"
   ]
  },
  {
   "cell_type": "markdown",
   "id": "3b134c1b",
   "metadata": {},
   "source": [
    "### Data Processing\n",
    "\n",
    "#### Reference\n",
    "1. https://medium.com/towards-data-science/another-twitter-sentiment-analysis-bb5b01ebad90\n",
    "2. https://wblillyman.medium.com/real-world-example-of-data-scraping-cleaning-with-python-and-beautifulsoup-74e42e7936fe\n",
    "3. "
   ]
  },
  {
   "cell_type": "code",
   "execution_count": 7,
   "id": "c16dd1ab",
   "metadata": {},
   "outputs": [],
   "source": [
    "# drop unnecessary columns \n",
    "\n",
    "df.drop(['id','date','query','author'],axis=1,inplace=True)"
   ]
  },
  {
   "cell_type": "code",
   "execution_count": 8,
   "id": "5e5001bc",
   "metadata": {},
   "outputs": [],
   "source": [
    "from bs4 import BeautifulSoup\n",
    "import re\n",
    "from nltk.tokenize import WordPunctTokenizer\n",
    "tok = WordPunctTokenizer()"
   ]
  },
  {
   "cell_type": "code",
   "execution_count": 9,
   "id": "4277aae8",
   "metadata": {},
   "outputs": [],
   "source": [
    "# removing @ symbols\n",
    "pat1 = r'@[A-Za-z0-9_]+'\n",
    "# removing weblinks\n",
    "pat2 = r'https?://[^ ]+'\n",
    "\n",
    "combined_pat = r'|'.join((pat1, pat2))\n",
    "# updated web site listing\n",
    "www_pat = r'www.[^ ]+'\n",
    "\n",
    "# negative words that should not be updated or removed\n",
    "negations_dic = {\"isn't\":\"is not\", \"aren't\":\"are not\", \"wasn't\":\"was not\", \"weren't\":\"were not\",\n",
    "                \"haven't\":\"have not\",\"hasn't\":\"has not\",\"hadn't\":\"had not\",\"won't\":\"will not\",\n",
    "                \"wouldn't\":\"would not\", \"don't\":\"do not\", \"doesn't\":\"does not\",\"didn't\":\"did not\",\n",
    "                \"can't\":\"can not\",\"couldn't\":\"could not\",\"shouldn't\":\"should not\",\"mightn't\":\"might not\",\n",
    "                \"mustn't\":\"must not\"}\n",
    "\n",
    "neg_pattern = re.compile(r'\\b(' + '|'.join(negations_dic.keys()) + r')\\b')\n"
   ]
  },
  {
   "cell_type": "code",
   "execution_count": 10,
   "id": "f71da0c9",
   "metadata": {},
   "outputs": [],
   "source": [
    "# remove noise such as html links, stop words / punctuation / #hashtags etc\n",
    "\n",
    "def tweet_cleaner(text):\n",
    "    # remove any HTLM references\n",
    "    soup = BeautifulSoup(text, 'lxml')\n",
    "    # create a new var called souped\n",
    "    souped = soup.get_text()\n",
    "    # removing @\n",
    "    stripped = re.sub(combined_pat, '', souped)\n",
    "    try:\n",
    "        # ensure all texted is in the utf-8 format\n",
    "        bom_removed = souped.decode(\"utf-8-sig\").replace(u\"\\ufffd\", \"?\")\n",
    "    except:\n",
    "        bom_removed = souped\n",
    "    stripped = re.sub(combined_pat, '', bom_removed)\n",
    "    stripped = re.sub(www_pat, '', stripped)\n",
    "\n",
    "    # convert all text to lowercase only\n",
    "    lower_case = stripped.lower()\n",
    "    neg_handled = neg_pattern.sub(lambda x: negations_dic[x.group()], lower_case)\n",
    "    \n",
    "    # remove any url links \n",
    "    letters_only = re.sub(\"[^a-zA-Z]\", \" \", neg_handled)\n",
    "    \n",
    "    # removes any white space using tokenize to join together text and then \n",
    "    # removing any resulting white spaces\n",
    "    words = [x for x  in tok.tokenize(letters_only) if len(x) > 1]\n",
    "   \n",
    "    return (\" \".join(words)).strip()\n"
   ]
  },
  {
   "cell_type": "code",
   "execution_count": 11,
   "id": "12bfac2b",
   "metadata": {},
   "outputs": [
    {
     "name": "stdout",
     "output_type": "stream",
     "text": [
      "Tweets 10532 of 10532 have been processed\n"
     ]
    }
   ],
   "source": [
    "# Apply the function to the 'tweet' column and create a new column 'Processed_tweets'\n",
    "\n",
    "start_index = 0\n",
    "end_index = 10532\n",
    "\n",
    "clean_tweet_texts = []\n",
    "\n",
    "for i in range(start_index, end_index):\n",
    "    if (i + 1) % end_index == start_index:\n",
    "        print(\"Tweets %d of %d have been processed\" % (i + 1, end_index))\n",
    "\n",
    "    clean_tweet_texts.append(tweet_cleaner(df['tweet'][i]))"
   ]
  },
  {
   "cell_type": "code",
   "execution_count": 12,
   "id": "0775ea5d",
   "metadata": {},
   "outputs": [
    {
     "name": "stdout",
     "output_type": "stream",
     "text": [
      "<class 'pandas.core.frame.DataFrame'>\n",
      "RangeIndex: 10532 entries, 0 to 10531\n",
      "Data columns (total 4 columns):\n",
      " #   Column        Non-Null Count  Dtype \n",
      "---  ------        --------------  ----- \n",
      " 0   target        10532 non-null  int64 \n",
      " 1   tweet         10532 non-null  object\n",
      " 2   date_extract  10532 non-null  object\n",
      " 3   time_extract  10532 non-null  object\n",
      "dtypes: int64(1), object(3)\n",
      "memory usage: 329.2+ KB\n"
     ]
    }
   ],
   "source": [
    "df.info()"
   ]
  },
  {
   "cell_type": "code",
   "execution_count": 13,
   "id": "ea09a0ce",
   "metadata": {},
   "outputs": [
    {
     "data": {
      "text/html": [
       "<div>\n",
       "<style scoped>\n",
       "    .dataframe tbody tr th:only-of-type {\n",
       "        vertical-align: middle;\n",
       "    }\n",
       "\n",
       "    .dataframe tbody tr th {\n",
       "        vertical-align: top;\n",
       "    }\n",
       "\n",
       "    .dataframe thead th {\n",
       "        text-align: right;\n",
       "    }\n",
       "</style>\n",
       "<table border=\"1\" class=\"dataframe\">\n",
       "  <thead>\n",
       "    <tr style=\"text-align: right;\">\n",
       "      <th></th>\n",
       "      <th>target</th>\n",
       "      <th>tweet</th>\n",
       "      <th>date_extract</th>\n",
       "      <th>time_extract</th>\n",
       "    </tr>\n",
       "  </thead>\n",
       "  <tbody>\n",
       "    <tr>\n",
       "      <th>0</th>\n",
       "      <td>0</td>\n",
       "      <td>@thecoolestout Ehhh don't. Weather's gonna tak...</td>\n",
       "      <td>2009-04-06</td>\n",
       "      <td>22:27:56</td>\n",
       "    </tr>\n",
       "    <tr>\n",
       "      <th>1</th>\n",
       "      <td>0</td>\n",
       "      <td>@Steve_Buscemi the weather in Canada is freezing</td>\n",
       "      <td>2009-04-06</td>\n",
       "      <td>22:46:44</td>\n",
       "    </tr>\n",
       "    <tr>\n",
       "      <th>2</th>\n",
       "      <td>0</td>\n",
       "      <td>We've been good. I'm not liking the snow right...</td>\n",
       "      <td>2009-04-06</td>\n",
       "      <td>22:52:13</td>\n",
       "    </tr>\n",
       "    <tr>\n",
       "      <th>3</th>\n",
       "      <td>0</td>\n",
       "      <td>@JessDubb lmao. U may have to wait for another...</td>\n",
       "      <td>2009-04-06</td>\n",
       "      <td>23:00:26</td>\n",
       "    </tr>\n",
       "    <tr>\n",
       "      <th>4</th>\n",
       "      <td>0</td>\n",
       "      <td>it's going to be nice again tomorrow and then ...</td>\n",
       "      <td>2009-04-06</td>\n",
       "      <td>23:18:38</td>\n",
       "    </tr>\n",
       "  </tbody>\n",
       "</table>\n",
       "</div>"
      ],
      "text/plain": [
       "   target                                              tweet date_extract  \\\n",
       "0       0  @thecoolestout Ehhh don't. Weather's gonna tak...   2009-04-06   \n",
       "1       0  @Steve_Buscemi the weather in Canada is freezing    2009-04-06   \n",
       "2       0  We've been good. I'm not liking the snow right...   2009-04-06   \n",
       "3       0  @JessDubb lmao. U may have to wait for another...   2009-04-06   \n",
       "4       0  it's going to be nice again tomorrow and then ...   2009-04-06   \n",
       "\n",
       "  time_extract  \n",
       "0     22:27:56  \n",
       "1     22:46:44  \n",
       "2     22:52:13  \n",
       "3     23:00:26  \n",
       "4     23:18:38  "
      ]
     },
     "execution_count": 13,
     "metadata": {},
     "output_type": "execute_result"
    }
   ],
   "source": [
    "df.head()"
   ]
  },
  {
   "cell_type": "code",
   "execution_count": 14,
   "id": "57da2c9a",
   "metadata": {},
   "outputs": [],
   "source": [
    "# add a new column for the length of the text in the tweet column\n",
    "\n",
    "df['tweet_len'] = [len(t) for t in df.tweet]"
   ]
  },
  {
   "cell_type": "code",
   "execution_count": 15,
   "id": "0373683f",
   "metadata": {},
   "outputs": [
    {
     "data": {
      "image/png": "[encoded data removed]",
      "text/plain": [
       "<Figure size 500x500 with 1 Axes>"
      ]
     },
     "metadata": {
      "image/png": {
       "height": 428,
       "width": 443
      }
     },
     "output_type": "display_data"
    }
   ],
   "source": [
    "# look at the shape of the data\n",
    "\n",
    "fig, ax = plt.subplots(figsize=(5, 5))\n",
    "plt.boxplot(df.tweet_len)\n",
    "plt.show()"
   ]
  },
  {
   "cell_type": "code",
   "execution_count": 16,
   "id": "2732088d",
   "metadata": {},
   "outputs": [
    {
     "ename": "NameError",
     "evalue": "name 'null_values' is not defined",
     "output_type": "error",
     "traceback": [
      "\u001b[1;31m---------------------------------------------------------------------------\u001b[0m",
      "\u001b[1;31mNameError\u001b[0m                                 Traceback (most recent call last)",
      "Input \u001b[1;32mIn [16]\u001b[0m, in \u001b[0;36m<cell line: 3>\u001b[1;34m()\u001b[0m\n\u001b[0;32m      1\u001b[0m \u001b[38;5;66;03m# check for null values\u001b[39;00m\n\u001b[1;32m----> 3\u001b[0m null_values_count \u001b[38;5;241m=\u001b[39m \u001b[43mnull_values\u001b[49m\u001b[38;5;241m.\u001b[39many()\u001b[38;5;241m.\u001b[39many()\n\u001b[0;32m      5\u001b[0m \u001b[38;5;28mprint\u001b[39m(\u001b[38;5;124m\"\u001b[39m\u001b[38;5;124mNull value counts:\u001b[39m\u001b[38;5;124m\"\u001b[39m, null_values_count)\n",
      "\u001b[1;31mNameError\u001b[0m: name 'null_values' is not defined"
     ]
    }
   ],
   "source": [
    "# check for null values\n",
    "\n",
    "null_values_count = null_values.any().any()\n",
    "\n",
    "print(\"Null value counts:\", null_values_count)"
   ]
  },
  {
   "cell_type": "code",
   "execution_count": null,
   "id": "b177d395",
   "metadata": {},
   "outputs": [],
   "source": [
    "# check for duplicate data\n",
    "duplicates = df.duplicated()\n",
    "\n",
    "# count the values\n",
    "duplicate_count = duplicates.sum()\n",
    "\n",
    "print(\"Duplicate count:\", duplicate_count)"
   ]
  },
  {
   "cell_type": "code",
   "execution_count": null,
   "id": "754e4f6a",
   "metadata": {},
   "outputs": [],
   "source": [
    "# drop the resulting duplicates\n",
    "\n",
    "df.drop_duplicates(inplace=True)"
   ]
  },
  {
   "cell_type": "code",
   "execution_count": null,
   "id": "850fc240",
   "metadata": {},
   "outputs": [],
   "source": [
    "# sort values by date order\n",
    "\n",
    "df = df.sort_values(by='date_extract')"
   ]
  },
  {
   "cell_type": "markdown",
   "id": "c1d710cc",
   "metadata": {},
   "source": [
    "### Sentiment Analysis with TextBlob\n",
    "\n",
    "TextBlob - common text processing operation, allowing NLP with an easy to use interface. uses sentiment analysis, parsing etc.\n",
    "\n",
    "\n",
    "#### Reference\n",
    "\n",
    "1. https://textblob.readthedocs.io/en/dev/quickstart.html\n",
    "2. https://textblob.readthedocs.io/en/dev/quickstart.html?highlight=natural%20sentiment#sentiment-analysis\n",
    "3. https://medium.com/towards-data-science/covid-19-vaccine-whats-the-public-sentiment-7149c9b42b99#29b2\n",
    "4. https://www.analyticsvidhya.com/blog/2021/10/sentiment-analysis-with-textblob-and-vader/"
   ]
  },
  {
   "cell_type": "code",
   "execution_count": null,
   "id": "d3133a50",
   "metadata": {},
   "outputs": [],
   "source": [
    "from textblob import TextBlob"
   ]
  },
  {
   "cell_type": "code",
   "execution_count": null,
   "id": "a59fa790",
   "metadata": {},
   "outputs": [],
   "source": [
    "# Obtain sentiment scores generated by TextBlob\n",
    "\n",
    "df['textblob_score'] = df['tweet'].apply(lambda x: TextBlob(x).sentiment.polarity)\n"
   ]
  },
  {
   "cell_type": "code",
   "execution_count": null,
   "id": "f364ac50",
   "metadata": {},
   "outputs": [],
   "source": [
    "# review the new textblob score\n",
    "\n",
    "# df.head()"
   ]
  },
  {
   "cell_type": "code",
   "execution_count": null,
   "id": "8496c009",
   "metadata": {},
   "outputs": [],
   "source": [
    "# Set threshold to define neutral sentiment \n",
    "# a score greate than 0.05 is positive, 0 to 0.05 is Neutral and less than 1 is negative\n",
    "\n",
    "neutral_thresh = 0.05"
   ]
  },
  {
   "cell_type": "code",
   "execution_count": null,
   "id": "82e195b6",
   "metadata": {},
   "outputs": [],
   "source": [
    "# Convert polarity score into sentiment categories\n",
    "\n",
    "df['textblob_sentiment'] = df['textblob_score'].apply(lambda c: 'Positive' if c >= neutral_thresh else ('Negative' if c <= -(neutral_thresh) else 'Neutral'))"
   ]
  },
  {
   "cell_type": "code",
   "execution_count": null,
   "id": "a5ccbfc8",
   "metadata": {},
   "outputs": [],
   "source": [
    "df.head()"
   ]
  },
  {
   "cell_type": "code",
   "execution_count": null,
   "id": "0243481c",
   "metadata": {},
   "outputs": [],
   "source": [
    "# Plot the sentiment scores\n",
    "\n",
    "sns.set()\n",
    "\n",
    "plt.ylabel('Sentiment Score')\n",
    "plt.xlabel('Date')\n",
    "plt.xticks(rotation=1000)\n",
    "plt.plot(df.index, df['textblob_sentiment'])\n",
    "\n",
    "plt.show()"
   ]
  },
  {
   "cell_type": "markdown",
   "id": "fb9ff593",
   "metadata": {},
   "source": [
    "#### Time Series Analysis \n",
    "\n",
    "##### References\n",
    "1. https://www.machinelearningplus.com/time-series/arima-model-time-series-forecasting-python/\n",
    "2. https://medium.com/towards-data-science/machine-learning-part-19-time-series-and-autoregressive-integrated-moving-average-model-arima-c1005347b0d7\n",
    "3. ARIMA - https://www.machinelearningplus.com/time-series/arima-model-time-series-forecasting-python/\n",
    "4. ARIMA - https://medium.com/towards-data-science/machine-learning-part-19-time-series-and-autoregressive-integrated-moving-average-model-arima-c1005347b0d7\n"
   ]
  },
  {
   "cell_type": "code",
   "execution_count": 19,
   "id": "0ce1d274",
   "metadata": {},
   "outputs": [
    {
     "data": {
      "text/html": [
       "<div>\n",
       "<style scoped>\n",
       "    .dataframe tbody tr th:only-of-type {\n",
       "        vertical-align: middle;\n",
       "    }\n",
       "\n",
       "    .dataframe tbody tr th {\n",
       "        vertical-align: top;\n",
       "    }\n",
       "\n",
       "    .dataframe thead th {\n",
       "        text-align: right;\n",
       "    }\n",
       "</style>\n",
       "<table border=\"1\" class=\"dataframe\">\n",
       "  <thead>\n",
       "    <tr style=\"text-align: right;\">\n",
       "      <th></th>\n",
       "      <th>target</th>\n",
       "      <th>tweet</th>\n",
       "      <th>date_extract</th>\n",
       "      <th>time_extract</th>\n",
       "      <th>tweet_len</th>\n",
       "    </tr>\n",
       "  </thead>\n",
       "  <tbody>\n",
       "    <tr>\n",
       "      <th>0</th>\n",
       "      <td>0</td>\n",
       "      <td>@thecoolestout Ehhh don't. Weather's gonna tak...</td>\n",
       "      <td>2009-04-06</td>\n",
       "      <td>22:27:56</td>\n",
       "      <td>77</td>\n",
       "    </tr>\n",
       "    <tr>\n",
       "      <th>1</th>\n",
       "      <td>0</td>\n",
       "      <td>@Steve_Buscemi the weather in Canada is freezing</td>\n",
       "      <td>2009-04-06</td>\n",
       "      <td>22:46:44</td>\n",
       "      <td>49</td>\n",
       "    </tr>\n",
       "    <tr>\n",
       "      <th>2</th>\n",
       "      <td>0</td>\n",
       "      <td>We've been good. I'm not liking the snow right...</td>\n",
       "      <td>2009-04-06</td>\n",
       "      <td>22:52:13</td>\n",
       "      <td>117</td>\n",
       "    </tr>\n",
       "    <tr>\n",
       "      <th>3</th>\n",
       "      <td>0</td>\n",
       "      <td>@JessDubb lmao. U may have to wait for another...</td>\n",
       "      <td>2009-04-06</td>\n",
       "      <td>23:00:26</td>\n",
       "      <td>106</td>\n",
       "    </tr>\n",
       "    <tr>\n",
       "      <th>4</th>\n",
       "      <td>0</td>\n",
       "      <td>it's going to be nice again tomorrow and then ...</td>\n",
       "      <td>2009-04-06</td>\n",
       "      <td>23:18:38</td>\n",
       "      <td>99</td>\n",
       "    </tr>\n",
       "  </tbody>\n",
       "</table>\n",
       "</div>"
      ],
      "text/plain": [
       "   target                                              tweet date_extract  \\\n",
       "0       0  @thecoolestout Ehhh don't. Weather's gonna tak...   2009-04-06   \n",
       "1       0  @Steve_Buscemi the weather in Canada is freezing    2009-04-06   \n",
       "2       0  We've been good. I'm not liking the snow right...   2009-04-06   \n",
       "3       0  @JessDubb lmao. U may have to wait for another...   2009-04-06   \n",
       "4       0  it's going to be nice again tomorrow and then ...   2009-04-06   \n",
       "\n",
       "  time_extract  tweet_len  \n",
       "0     22:27:56         77  \n",
       "1     22:46:44         49  \n",
       "2     22:52:13        117  \n",
       "3     23:00:26        106  \n",
       "4     23:18:38         99  "
      ]
     },
     "execution_count": 19,
     "metadata": {},
     "output_type": "execute_result"
    }
   ],
   "source": [
    "df.head()"
   ]
  },
  {
   "cell_type": "code",
   "execution_count": 20,
   "id": "90d71c23",
   "metadata": {},
   "outputs": [],
   "source": [
    "# Divide the data set into test and train\n",
    "\n",
    "# create a new df based on date which is less than \n",
    "train = df[df.date_extract <= pd.to_datetime(\"2009-04-30\", format='%Y-%m-%d')]\n",
    "\n",
    "# create a new df where the date is greater than or equal to 01 May\n",
    "test = df[df.date_extract >= pd.to_datetime(\"2009-05-01\", format='%Y-%m-%d')]\n"
   ]
  },
  {
   "cell_type": "code",
   "execution_count": null,
   "id": "0fa81317",
   "metadata": {},
   "outputs": [],
   "source": []
  },
  {
   "cell_type": "code",
   "execution_count": null,
   "id": "dd2d1ca3",
   "metadata": {},
   "outputs": [],
   "source": []
  },
  {
   "cell_type": "code",
   "execution_count": null,
   "id": "37fb1c22",
   "metadata": {},
   "outputs": [],
   "source": []
  },
  {
   "cell_type": "code",
   "execution_count": null,
   "id": "f949241c",
   "metadata": {},
   "outputs": [],
   "source": []
  }
 ],
 "metadata": {
  "kernelspec": {
   "display_name": "Python 3 (ipykernel)",
   "language": "python",
   "name": "python3"
  },
  "language_info": {
   "codemirror_mode": {
    "name": "ipython",
    "version": 3
   },
   "file_extension": ".py",
   "mimetype": "text/x-python",
   "name": "python",
   "nbconvert_exporter": "python",
   "pygments_lexer": "ipython3",
   "version": "3.9.12"
  }
 },
 "nbformat": 4,
 "nbformat_minor": 5
}
